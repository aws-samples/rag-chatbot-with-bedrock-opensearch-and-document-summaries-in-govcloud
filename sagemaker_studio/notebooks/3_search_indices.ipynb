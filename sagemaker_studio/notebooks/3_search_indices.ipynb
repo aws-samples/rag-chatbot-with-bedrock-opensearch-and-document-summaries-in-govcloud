{
 "cells": [
  {
   "cell_type": "markdown",
   "id": "93914b28-7e85-4a6a-9df2-7caaf5c4e16f",
   "metadata": {},
   "source": [
    "# 3 - Search OpenSearch indices\n",
    "\n",
    "This notebook shows how to make searches against the knowledge base in a notebook format."
   ]
  },
  {
   "cell_type": "markdown",
   "id": "05fd664f-64e0-4122-8d65-52cc541abf9e",
   "metadata": {},
   "source": [
    "#### Install dependencies"
   ]
  },
  {
   "cell_type": "code",
   "execution_count": null,
   "id": "92f6d279-f9e9-40ed-aec3-3c9c010d4d27",
   "metadata": {
    "tags": []
   },
   "outputs": [],
   "source": [
    "!pip install --upgrade --force-reinstall boto3"
   ]
  },
  {
   "cell_type": "code",
   "execution_count": null,
   "id": "9eb3c6e9-becc-4410-8135-2bb70b53d743",
   "metadata": {
    "tags": []
   },
   "outputs": [],
   "source": [
    "!pip install opensearch-py"
   ]
  },
  {
   "cell_type": "markdown",
   "id": "ae8b433e-b698-4b5f-b15f-846ca307affa",
   "metadata": {},
   "source": [
    "#### Import dependencies"
   ]
  },
  {
   "cell_type": "code",
   "execution_count": null,
   "id": "4ba54fed-9d1d-4ca5-9c56-8d81444d44f0",
   "metadata": {
    "tags": []
   },
   "outputs": [],
   "source": [
    "import os\n",
    "import boto3\n",
    "import json\n",
    "from opensearchpy import OpenSearch, RequestsHttpConnection, AWSV4SignerAuth, helpers\n",
    "from urllib.parse import quote\n",
    "from datetime import datetime"
   ]
  },
  {
   "cell_type": "markdown",
   "id": "9cda8d09-909f-458c-86ab-30fb242bd022",
   "metadata": {},
   "source": [
    "## Set search parameters - maximum length of RAG context text, hit score thresholds, and flags to use document summary and date in determining ranking of search results"
   ]
  },
  {
   "cell_type": "markdown",
   "id": "d5a1594f-82e2-4841-befe-75fbf876098b",
   "metadata": {},
   "source": [
    "The max_length_rag_text parameter sets the maximum length of context provided to the LLM"
   ]
  },
  {
   "cell_type": "code",
   "execution_count": null,
   "id": "fd200c93-be43-4074-a1a5-95ca860a2659",
   "metadata": {},
   "outputs": [],
   "source": [
    "max_length_rag_text = 15000"
   ]
  },
  {
   "cell_type": "markdown",
   "id": "711d2826-73d8-443f-93b5-194fec557b99",
   "metadata": {},
   "source": [
    "Each OpenSearch full text hit must meet or exceed the full_text_hit_score_threshold to be considered in the result"
   ]
  },
  {
   "cell_type": "code",
   "execution_count": null,
   "id": "8b3a5715-d71f-4195-8ec1-2f96aaaecbb6",
   "metadata": {},
   "outputs": [],
   "source": [
    "full_text_hit_score_threshold = 0.5"
   ]
  },
  {
   "cell_type": "markdown",
   "id": "da04a67a-0e52-42ef-9332-fa0d595ab506",
   "metadata": {},
   "source": [
    "The use_summary and summary_weight_over_full_text parameters determine whether the document summary is used to determine the ranking of search results and the extent to which the summary is weighted over full text results.  Each OpenSearch summary hit must meet or exceed the summary_hit_score_threshold to be considered in the result"
   ]
  },
  {
   "cell_type": "code",
   "execution_count": null,
   "id": "9ed67ffc-ff1d-43c5-8606-f96b345abdcc",
   "metadata": {},
   "outputs": [],
   "source": [
    "use_summary = True\n",
    "summary_weight_over_full_text = 1.5\n",
    "summary_hit_score_threshold = 0.9"
   ]
  },
  {
   "cell_type": "markdown",
   "id": "e37a09d9-ddf7-4164-9cc8-7a4238a9ba15",
   "metadata": {},
   "source": [
    "The use_date and years_until_zero_value parameters determine whether the document date is used to determine the ranking of search results, and the extent to which the score is impacted by age of document.  The parameter points_deducted_per_day_old is calculated based on the number of years until the document has no value (maximum score is 1)."
   ]
  },
  {
   "cell_type": "code",
   "execution_count": null,
   "id": "d979ab35-f5c4-4b8b-85e8-21325006eff6",
   "metadata": {},
   "outputs": [],
   "source": [
    "use_date = True\n",
    "years_until_no_value = 20\n",
    "points_deduct_per_day_old = 1/(365 * years_until_no_value)"
   ]
  },
  {
   "cell_type": "markdown",
   "id": "88459482-396c-4f57-9217-fdd1dda90a13",
   "metadata": {},
   "source": [
    "#### Get the Bedrock Guardrail ID, version, and the block message given in the stack parameters"
   ]
  },
  {
   "cell_type": "code",
   "execution_count": null,
   "id": "16a908df-d96f-48e2-b6b0-1dad82513a07",
   "metadata": {
    "tags": []
   },
   "outputs": [],
   "source": [
    "stack_name = \"chatbot-demo\"\n",
    "\n",
    "cf_client = boto3.client('cloudformation')\n",
    "response = cf_client.describe_stacks(StackName=stack_name)\n",
    "outputs = response[\"Stacks\"][0][\"Outputs\"]\n",
    "bedrock_guardrail_id = list(filter(lambda outputs: outputs['OutputKey'] == 'BedrockGuardrailId', outputs))[0][\"OutputValue\"]\n",
    "print(\"The Bedrock Guardrail ID is:\", bedrock_guardrail_id)\n",
    "bedrock_guardrail_version = list(filter(lambda outputs: outputs['OutputKey'] == 'BedrockGuardrailVersion', outputs))[0][\"OutputValue\"]\n",
    "print(\"The Bedrock Guardrail version is:\", bedrock_guardrail_version)\n",
    "\n",
    "stack_parameters = response[\"Stacks\"][0][\"Parameters\"]\n",
    "bedrock_guardrails_block_message = list(filter(lambda stack_parameters: stack_parameters['ParameterKey'] == 'BedrockGuardrailsBlockMessage', stack_parameters))[0][\"ParameterValue\"]\n",
    "print(\"The Bedrock Guardrail block message is:\", bedrock_guardrails_block_message)"
   ]
  },
  {
   "cell_type": "markdown",
   "id": "681f99e1-4352-415b-b0af-0cf684ac2743",
   "metadata": {},
   "source": [
    "#### Set the values for S3 key to weblink conversion"
   ]
  },
  {
   "cell_type": "code",
   "execution_count": null,
   "id": "2f963ef5-dff3-49de-b1f3-9017a469f49b",
   "metadata": {
    "tags": []
   },
   "outputs": [],
   "source": [
    "use_s3_key_to_weblink_conversion = True\n",
    "s3_key_prefix_to_remove = \"md/website\"\n",
    "weblink_prefix = \"https://internal-site.us\"\n",
    "s3_key_suffix_to_remove = \".md\"\n",
    "weblink_suffix = \".html\""
   ]
  },
  {
   "cell_type": "markdown",
   "id": "c0c2036a-9c05-4b55-a260-db72a6f97830",
   "metadata": {},
   "source": [
    "#### Retrieve stored values"
   ]
  },
  {
   "cell_type": "code",
   "execution_count": null,
   "id": "c2484367-d26e-445c-8630-cb469cea4b35",
   "metadata": {
    "tags": []
   },
   "outputs": [],
   "source": [
    "%store -r region_name\n",
    "%store -r host\n",
    "%store -r summary_index_name\n",
    "%store -r full_text_index_name\n",
    "%store -r date_index_name\n",
    "%store -r pipeline_id\n",
    "%store -r model_id\n",
    "print(\"Region is:\", region_name)\n",
    "print(\"OpenSearch endpoint\", host)\n",
    "print(\"Summary index name\", summary_index_name)\n",
    "print(\"Full Text index name\", full_text_index_name)\n",
    "print(\"Date index name\", date_index_name)\n",
    "print(\"Semantic search pipeline ID\", pipeline_id)\n",
    "print(\"Model ID\", model_id)"
   ]
  },
  {
   "cell_type": "markdown",
   "id": "fc5c77e3-080e-4ddb-8208-7061706289c5",
   "metadata": {},
   "source": [
    "#### Get OpenSearch client"
   ]
  },
  {
   "cell_type": "code",
   "execution_count": null,
   "id": "fd1ed2a1-a3aa-48d4-9122-3f4dfa328b85",
   "metadata": {
    "tags": []
   },
   "outputs": [],
   "source": [
    "credentials = boto3.Session().get_credentials()\n",
    "auth = AWSV4SignerAuth(credentials, region_name)\n",
    "\n",
    "opensearch_client = OpenSearch(\n",
    "    hosts = [{'host': host, 'port': 443}],\n",
    "    requestTimeout = 20,\n",
    "    http_auth = auth,\n",
    "    use_ssl = True,\n",
    "    verify_certs = True,\n",
    "    connection_class = RequestsHttpConnection\n",
    ")"
   ]
  },
  {
   "cell_type": "markdown",
   "id": "c342b600-212d-4028-ab0b-da431d0c1383",
   "metadata": {},
   "source": [
    "#### Create a Bedrock runtime object"
   ]
  },
  {
   "cell_type": "code",
   "execution_count": null,
   "id": "12b216ad-d819-42d5-a93b-281071a565dc",
   "metadata": {
    "tags": []
   },
   "outputs": [],
   "source": [
    "bedrock_runtime = boto3.client(\n",
    "    service_name='bedrock-runtime',\n",
    "    region_name=region_name, \n",
    ")\n"
   ]
  },
  {
   "cell_type": "markdown",
   "id": "16e88a1d-45ba-44ce-aa42-8a35fe765722",
   "metadata": {},
   "source": [
    "#### Set the text gen config and content type for Bedrock"
   ]
  },
  {
   "cell_type": "code",
   "execution_count": null,
   "id": "215e386d-5329-4424-97fd-c768c62bb08a",
   "metadata": {
    "tags": []
   },
   "outputs": [],
   "source": [
    "text_gen_config = {\n",
    "    \"maxTokenCount\": 350,\n",
    "    \"stopSequences\": [], \n",
    "    \"temperature\": 0,\n",
    "    \"topP\": 1\n",
    "}\n",
    "bedrock_model_id = 'amazon.titan-text-express-v1'\n",
    "accept = 'application/json' \n",
    "content_type = 'application/json'\n"
   ]
  },
  {
   "cell_type": "markdown",
   "id": "1be060e5-2550-4d70-ac6d-bfbe52cd33fc",
   "metadata": {},
   "source": [
    "## Set the question to be asked"
   ]
  },
  {
   "cell_type": "code",
   "execution_count": null,
   "id": "6bb1dbdf-caa6-4ce8-bcc6-a1137911e359",
   "metadata": {
    "tags": []
   },
   "outputs": [],
   "source": [
    "#### Your question below\n",
    "query_text = \"What is the impact of wind on solar panel performance?\"\n",
    "#query_text = \"What are the reasons why consumers do not choose electric vehicles?\"\n",
    "#query_text = \"What are the benefits of electric vehicles?\"\n",
    "\n",
    "#### Ask an unsafe question to test Bedrock Guardrail\n",
    "#query_text = \"Why do idiots drive hybrid cars?\""
   ]
  },
  {
   "cell_type": "markdown",
   "id": "1a49f143-205e-494a-b1d9-689f64e9685a",
   "metadata": {},
   "source": [
    "#### Do a semantic search for the search term on the summary index"
   ]
  },
  {
   "cell_type": "code",
   "execution_count": null,
   "id": "a229d0e7-9f45-42c0-80e0-c5f00c915a6b",
   "metadata": {
    "tags": []
   },
   "outputs": [],
   "source": [
    "if use_summary:\n",
    "    query={\n",
    "        \"_source\": {\n",
    "            \"excludes\": [ \"text_embedding\" ]\n",
    "        },\n",
    "        \"size\": 30,\n",
    "        \"query\": {\n",
    "            \"neural\": {\n",
    "                \"text_embedding\": {\n",
    "                \"query_text\": query_text,\n",
    "                \"model_id\": model_id,\n",
    "                \"k\": 30\n",
    "                }\n",
    "            }\n",
    "        }\n",
    "    }\n",
    "\n",
    "    summary_response = opensearch_client.search(index=summary_index_name, \n",
    "                           body=query,\n",
    "                           stored_fields=[\"text\"])\n",
    "\n",
    "    print(\"Got\",len(summary_response[\"hits\"][\"hits\"]),\"hits.\")\n",
    "else:\n",
    "    summary_response = []"
   ]
  },
  {
   "cell_type": "code",
   "execution_count": null,
   "id": "11d81ce8-1803-4904-84b6-ca419c30d68f",
   "metadata": {
    "tags": []
   },
   "outputs": [],
   "source": [
    "#summary_response"
   ]
  },
  {
   "cell_type": "markdown",
   "id": "17e767ea-8483-4d08-a2e1-74b113610c24",
   "metadata": {},
   "source": [
    "#### Build a list of keys of documents with the highest summary score for each document"
   ]
  },
  {
   "cell_type": "code",
   "execution_count": null,
   "id": "5ae50ab7-9ac9-47a9-b7fc-20b1fcb17b93",
   "metadata": {
    "tags": []
   },
   "outputs": [],
   "source": [
    "if use_summary:\n",
    "\n",
    "    doc_list = []\n",
    "    min_summary_hit_score = summary_hit_score_threshold * summary_response['hits']['max_score']\n",
    "\n",
    "    for i in summary_response['hits']['hits']:\n",
    "        # Add this document if it's within the hit score threshold\n",
    "        if i['_score'] >= min_summary_hit_score:\n",
    "            doc_list.append({i['_source']['document']: i['_score']})\n",
    "\n",
    "    all_keys = set().union(*doc_list)\n",
    "    document_summary_high_scores = {key: max(dic.get(key, float('-inf')) for dic in doc_list) for key in all_keys}\n",
    "\n",
    "    document_summary_high_scores"
   ]
  },
  {
   "cell_type": "markdown",
   "id": "c5e280b3-09d4-498f-a303-b3606028625b",
   "metadata": {},
   "source": [
    "#### Do a semantic search for the search term on the full text index"
   ]
  },
  {
   "cell_type": "code",
   "execution_count": null,
   "id": "5500d16d-8b78-4dbf-80f0-1c9864b34bba",
   "metadata": {
    "tags": []
   },
   "outputs": [],
   "source": [
    "query={\n",
    "    \"_source\": {\n",
    "        \"excludes\": [ \"text_embedding\" ]\n",
    "    },\n",
    "    \"size\": 20,\n",
    "    \"query\": {\n",
    "        \"neural\": {\n",
    "            \"text_embedding\": {\n",
    "            \"query_text\": query_text,\n",
    "            \"model_id\": model_id,\n",
    "            \"k\": 30\n",
    "            }\n",
    "        }\n",
    "    }\n",
    "}\n",
    "\n",
    "full_text_response = opensearch_client.search(index=full_text_index_name, \n",
    "                       body=query,\n",
    "                       stored_fields=[\"text\"])\n",
    "\n",
    "print(\"Got\",len(full_text_response[\"hits\"][\"hits\"]),\"hits.\")"
   ]
  },
  {
   "cell_type": "code",
   "execution_count": null,
   "id": "02825abe-3670-4cba-99eb-50d144333ea5",
   "metadata": {
    "tags": []
   },
   "outputs": [],
   "source": [
    "#full_text_response[\"hits\"][\"hits\"]"
   ]
  },
  {
   "cell_type": "markdown",
   "id": "40af510d-5c9a-4f49-a54d-1da3947341e8",
   "metadata": {},
   "source": [
    "#### If use_date parameter is true, get the date of each document with a search hit and calculate its age in days"
   ]
  },
  {
   "cell_type": "code",
   "execution_count": null,
   "id": "51bbf669-287a-43df-9c46-7814c089d83a",
   "metadata": {
    "tags": []
   },
   "outputs": [],
   "source": [
    "document_age_list = []\n",
    "\n",
    "if use_date:\n",
    "\n",
    "    for full_text_hit in full_text_response[\"hits\"][\"hits\"]:\n",
    "        if not any(d['document'] == full_text_hit[\"_source\"][\"document\"] for d in document_age_list):\n",
    "            query={\n",
    "                \"query\": {\n",
    "                    \"match_phrase\": {\n",
    "                        \"document\": full_text_hit[\"_source\"][\"document\"]\n",
    "                    }\n",
    "                }\n",
    "            }\n",
    "            date_response = opensearch_client.search(index=date_index_name, body=query)\n",
    "            document_date = date_response[\"hits\"][\"hits\"][0][\"_source\"][\"document_date\"][:10]\n",
    "            days_old = (datetime.now() - datetime.strptime(document_date, \"%Y-%m-%d\")).days\n",
    "            document_age_list.append(\n",
    "                {\n",
    "                    \"document\": full_text_hit[\"_source\"][\"document\"],\n",
    "                    \"date\": document_date,\n",
    "                    \"days_old\": days_old\n",
    "                }\n",
    "            )\n",
    "\n",
    "document_age_list"
   ]
  },
  {
   "cell_type": "markdown",
   "id": "88795b41-1283-4535-bab2-b6ca5b85a475",
   "metadata": {},
   "source": [
    "#### If use_date parameter is true, deduct points on scores of each full text hit based on the age of the document and parameter points to deduct per day old"
   ]
  },
  {
   "cell_type": "code",
   "execution_count": null,
   "id": "eb05eb73-89c5-465d-93ce-8baff96d434f",
   "metadata": {
    "tags": []
   },
   "outputs": [],
   "source": [
    "if use_date:\n",
    "\n",
    "    for hit in full_text_response[\"hits\"][\"hits\"]:\n",
    "        days_old = list(filter(lambda doc: doc['document'] == hit['_source']['document'], document_age_list))[0][\"days_old\"]\n",
    "        points_to_deduct = points_deduct_per_day_old * days_old\n",
    "        if hit[\"_score\"] > points_to_deduct:\n",
    "            hit[\"_score\"] = hit[\"_score\"] - (points_deduct_per_day_old * days_old)\n",
    "        else:\n",
    "            hit[\"_score\"] = 0"
   ]
  },
  {
   "cell_type": "code",
   "execution_count": null,
   "id": "7176e07a-6535-425a-9ef8-6b0b5e04e13d",
   "metadata": {
    "tags": []
   },
   "outputs": [],
   "source": [
    "#full_text_response"
   ]
  },
  {
   "cell_type": "markdown",
   "id": "fef45143-672c-46f0-b41b-04ed775a13c5",
   "metadata": {},
   "source": [
    "#### Make a list of full text hits with associated summary document scores\n",
    "To ensure continuity of context, the sections of the document immediately before and after each hit will be added to the hit list"
   ]
  },
  {
   "cell_type": "code",
   "execution_count": null,
   "id": "33fbf2cc-7bb2-4d8c-bd4d-dc78db596eac",
   "metadata": {
    "tags": []
   },
   "outputs": [],
   "source": [
    "hit_sections = []\n",
    "min_hit_score = full_text_hit_score_threshold * min(full_text_response[\"hits\"][\"hits\"], key=lambda x:x['_score'])[\"_score\"]\n",
    "\n",
    "if use_summary:\n",
    "    for hit in full_text_response[\"hits\"][\"hits\"]:\n",
    "        for i in range(hit[\"_source\"][\"section\"] - 1, hit[\"_source\"][\"section\"] + 2):\n",
    "            if \"page\" in hit[\"_source\"]:\n",
    "                page = hit[\"_source\"][\"page\"]\n",
    "            else:\n",
    "                page = None\n",
    "            if \"section_heading\" in hit[\"_source\"]:\n",
    "                section_heading = hit[\"_source\"][\"section_heading\"]\n",
    "            else:\n",
    "                section_heading = None\n",
    "            if i > 0 and hit[\"_score\"] >= min_hit_score:\n",
    "                # If summary doc score exists for this full text hit then use that, else do not add this item\n",
    "                if hit['_source']['document'] in document_summary_high_scores:\n",
    "                    document_score = summary_weight_over_full_text * document_summary_high_scores[hit[\"_source\"][\"document\"]]\n",
    "                    hit_sections.append(\n",
    "                            {\n",
    "                                \"document\": hit[\"_source\"][\"document\"],\n",
    "                                \"page\": page,\n",
    "                                \"section_heading\": section_heading,\n",
    "                                \"section\": i,\n",
    "                                \"document_score\": hit[\"_score\"] + document_score\n",
    "                            }\n",
    "                        )\n",
    "else:\n",
    "    for hit in full_text_response[\"hits\"][\"hits\"]:\n",
    "        for i in range(hit[\"_source\"][\"section\"] - 3, hit[\"_source\"][\"section\"] + 4):\n",
    "            if \"page\" in hit[\"_source\"]:\n",
    "                page = hit[\"_source\"][\"page\"]\n",
    "            else:\n",
    "                page = None\n",
    "            if \"section_heading\" in hit[\"_source\"]:\n",
    "                section_heading = hit[\"_source\"][\"section_heading\"]\n",
    "            else:\n",
    "                section_heading = None\n",
    "            if i > 0 and hit[\"_score\"] >= min_hit_score:\n",
    "                hit_sections.append(\n",
    "                        {\n",
    "                            \"document\": hit[\"_source\"][\"document\"],\n",
    "                            \"page\": page,\n",
    "                            \"section_heading\": section_heading,\n",
    "                            \"section\": i,\n",
    "                            \"document_score\": hit[\"_score\"],\n",
    "                        }\n",
    "                    )\n",
    "    \n",
    "#hit_sections"
   ]
  },
  {
   "cell_type": "code",
   "execution_count": null,
   "id": "44f33e2b-a776-4e44-b69f-e86751ad0fb6",
   "metadata": {
    "tags": []
   },
   "outputs": [],
   "source": [
    "hit_sections"
   ]
  },
  {
   "cell_type": "markdown",
   "id": "0199a1da-e93f-4fd4-a3ac-1025cc7ac3fa",
   "metadata": {},
   "source": [
    "#### Sort the hit list by document score high to low"
   ]
  },
  {
   "cell_type": "code",
   "execution_count": null,
   "id": "41e5fc3b-fc98-41ae-a1ff-3b1d80d70960",
   "metadata": {
    "tags": []
   },
   "outputs": [],
   "source": [
    "sorted_list = sorted(hit_sections, key=lambda x: (x['document_score'] * -1, x['document'], x['page'], x['section_heading'], x['section']))"
   ]
  },
  {
   "cell_type": "code",
   "execution_count": null,
   "id": "d3585840-f12c-401e-8dc9-79edd5518046",
   "metadata": {
    "tags": []
   },
   "outputs": [],
   "source": [
    "sorted_list"
   ]
  },
  {
   "cell_type": "code",
   "execution_count": null,
   "id": "25308f5c-7f8a-4e4f-8e87-fa730671efca",
   "metadata": {
    "tags": []
   },
   "outputs": [],
   "source": [
    "len(sorted_list)"
   ]
  },
  {
   "cell_type": "markdown",
   "id": "e046af89-b949-410f-bbc3-22a8e1dcd731",
   "metadata": {},
   "source": [
    "#### Remove the scores and eliminate duplicates in the sorted hit list"
   ]
  },
  {
   "cell_type": "code",
   "execution_count": null,
   "id": "52d1904d-302e-4de6-b9ba-863bb9179cd3",
   "metadata": {
    "tags": []
   },
   "outputs": [],
   "source": [
    "sorted_list_without_scores = []\n",
    "\n",
    "for i in sorted_list:\n",
    "    sorted_list_without_scores.append(\n",
    "        {\n",
    "            \"document\": i['document'],\n",
    "            \"section\": i['section']\n",
    "        }\n",
    "    )\n",
    "    \n",
    "deduplicated_list = {frozenset(item.items()) : item for item in sorted_list_without_scores}.values()\n",
    "deduplicated_list"
   ]
  },
  {
   "cell_type": "code",
   "execution_count": null,
   "id": "115f464d-b8bf-4125-b463-bcaa6c322155",
   "metadata": {
    "tags": []
   },
   "outputs": [],
   "source": [
    "len(deduplicated_list)"
   ]
  },
  {
   "cell_type": "markdown",
   "id": "a593a8e2-0ebc-4f62-bd4f-37078bd995e8",
   "metadata": {},
   "source": [
    "#### Retrieve the text of each section in the hit list and concatenate into a single string as RAG context for the LLM"
   ]
  },
  {
   "cell_type": "code",
   "execution_count": null,
   "id": "420ca93d-730b-4fdc-aaac-3e6b9e18db08",
   "metadata": {
    "tags": []
   },
   "outputs": [],
   "source": [
    "rag_text = \"\"\n",
    "reference_list = []\n",
    "\n",
    "for i in sorted_list:\n",
    "#    print(i)\n",
    "    query = {\n",
    "        'size': 1,\n",
    "        \"query\": {\n",
    "            \"bool\": {\n",
    "                \"must\": [\n",
    "                    {\n",
    "                        \"match\": {\n",
    "                            \"document\": i[\"document\"]\n",
    "                        }\n",
    "                    },\n",
    "                    {\n",
    "                        \"match\": {\n",
    "                            \"section\": i[\"section\"]\n",
    "                        }\n",
    "                    }\n",
    "                ]\n",
    "            }\n",
    "        }\n",
    "    }\n",
    "    response2 = opensearch_client.search(\n",
    "        body = query,\n",
    "        index = full_text_index_name\n",
    "    )\n",
    "#    print(response2[\"hits\"][\"hits\"][0][\"_source\"])\n",
    "    # Check to make sure there is a value and that adding this hit will not make the RAG text exceed the maximum length\n",
    "    if len(response2[\"hits\"][\"hits\"]) > 0 and (len(rag_text) + len(response2[\"hits\"][\"hits\"][0][\"_source\"][\"text\"]) < max_length_rag_text):\n",
    "        # Add the text from this hit to the RAG text\n",
    "        rag_text += response2[\"hits\"][\"hits\"][0][\"_source\"][\"text\"]\n",
    "        # Add the reference\n",
    "        reference = {\n",
    "            \"document\": i['document'],\n",
    "            \"page\": i['page'],\n",
    "            \"section_heading\": i['section_heading']\n",
    "        }\n",
    "        reference_list.append(reference)"
   ]
  },
  {
   "cell_type": "markdown",
   "id": "6b588169-de5c-41ba-9625-3a6118c7ae78",
   "metadata": {},
   "source": [
    "#### Check the length of the RAG text"
   ]
  },
  {
   "cell_type": "code",
   "execution_count": null,
   "id": "77010ab2-58bc-4c71-a3a8-35ce208c9ba0",
   "metadata": {
    "tags": []
   },
   "outputs": [],
   "source": [
    "len(rag_text)"
   ]
  },
  {
   "cell_type": "code",
   "execution_count": null,
   "id": "01157888-2aa0-4815-a743-ecec2d7c1768",
   "metadata": {
    "tags": []
   },
   "outputs": [],
   "source": [
    "rag_text"
   ]
  },
  {
   "cell_type": "markdown",
   "id": "63f3b6dc-a56e-4410-afbc-81de3499aac3",
   "metadata": {},
   "source": [
    "#### Set the prompt for the LLM"
   ]
  },
  {
   "cell_type": "code",
   "execution_count": null,
   "id": "57b58d1c-363d-4d3e-93a2-f1ed61027937",
   "metadata": {
    "tags": []
   },
   "outputs": [],
   "source": [
    "prompt_template = '''Context - {context}\\n\\n\\n\\n\n",
    "Based only on the above context, answer this question - {query_text}'''\n",
    "prompt_data = prompt_template.replace(\"{context}\", rag_text).replace(\"{query_text}\", query_text)\n",
    "body = json.dumps({\n",
    "    \"inputText\": prompt_data,\n",
    "    \"textGenerationConfig\": text_gen_config\n",
    "})"
   ]
  },
  {
   "cell_type": "markdown",
   "id": "d289b7eb-1a22-4c5b-aac4-d57173d40143",
   "metadata": {},
   "source": [
    "#### Make the request to Bedrock and show the response"
   ]
  },
  {
   "cell_type": "code",
   "execution_count": null,
   "id": "0be50625-f731-4619-949c-3760816d231c",
   "metadata": {
    "tags": []
   },
   "outputs": [],
   "source": [
    "bedrock_response = bedrock_runtime.invoke_model(\n",
    "    body=body, \n",
    "    modelId=bedrock_model_id, \n",
    "    accept=accept, \n",
    "    contentType=content_type,\n",
    "    guardrailIdentifier=bedrock_guardrail_id,\n",
    "    guardrailVersion=bedrock_guardrail_version\n",
    ")\n",
    "response_body = json.loads(bedrock_response.get('body').read())\n",
    "output_text = response_body.get('results')[0].get('outputText')\n",
    "output_text"
   ]
  },
  {
   "cell_type": "markdown",
   "id": "c1f47f3e-a5d7-4333-89f0-6de1159281cf",
   "metadata": {},
   "source": [
    "#### Show the references used to create the RAG text"
   ]
  },
  {
   "cell_type": "code",
   "execution_count": null,
   "id": "82932ade-b4fa-4145-9d82-f3e23e2eb9c6",
   "metadata": {
    "tags": []
   },
   "outputs": [],
   "source": [
    "reference_text = \"\"\n",
    "\n",
    "# If Guardrails did not block, then get references\n",
    "if output_text != bedrock_guardrails_block_message:\n",
    "\n",
    "    reference_list_dedupe = {frozenset(item.items()) : item for item in reference_list}.values()\n",
    "    for item in reference_list_dedupe:\n",
    "\n",
    "        # Default document reference is the S3 key\n",
    "        document = item['document']\n",
    "        # If use_s3_key_to_weblink_conversion is set then convert document to a weblink\n",
    "        if use_s3_key_to_weblink_conversion:\n",
    "            if document.startswith(s3_key_prefix_to_remove):\n",
    "                document = document.replace(s3_key_prefix_to_remove, weblink_prefix, 1)\n",
    "            if document.endswith(s3_key_suffix_to_remove):\n",
    "                #document = document.replace(s3_key_suffix_to_remove, weblink_suffix, 1)\n",
    "                document = document[:-len(s3_key_suffix_to_remove)] + weblink_suffix\n",
    "\n",
    "        # If there is a page reference, then include it\n",
    "        if item[\"page\"] is not None:\n",
    "            reference_text += \"\\n- \" + document + \" page: \" + str(item['page'])\n",
    "        # If there is a section heading reference and weblink conversion is selected then add it to URL\n",
    "        elif item[\"section_heading\"] is not None and use_s3_key_to_weblink_conversion:\n",
    "            reference_text += \"\\n- \" + document + \"#\" + quote(str(item['section_heading'])) + \" \"\n",
    "        # If there is a section heading reference and weblink conversion is not selected then add it as text\n",
    "        elif item[\"section_heading\"] is not None and use_s3_key_to_weblink_conversion is False:\n",
    "            reference_text += \"\\n- \" + document + \" heading: \" + str(item['section_heading'])\n",
    "        else:\n",
    "            reference_text += \"\\n- \" + document\n",
    "\n",
    "reference_text"
   ]
  },
  {
   "cell_type": "code",
   "execution_count": null,
   "id": "8e20b9c7-2513-4aaf-ba45-fbdf7fb9d512",
   "metadata": {
    "tags": []
   },
   "outputs": [],
   "source": [
    "if section_heading:\n",
    "    quote(item['section_heading'])"
   ]
  },
  {
   "cell_type": "markdown",
   "id": "d2a0e882-45fd-488d-bfca-1aa44ad9ce76",
   "metadata": {
    "tags": []
   },
   "source": [
    "#### Copyright Amazon.com, Inc. or its affiliates. All Rights Reserved.\n",
    "#### SPDX-License-Identifier: MIT-0"
   ]
  },
  {
   "cell_type": "code",
   "execution_count": null,
   "id": "76d4ab5d-c147-44a6-9303-855cda16d21a",
   "metadata": {},
   "outputs": [],
   "source": []
  }
 ],
 "metadata": {
  "availableInstances": [
   {
    "_defaultOrder": 0,
    "_isFastLaunch": true,
    "category": "General purpose",
    "gpuNum": 0,
    "hideHardwareSpecs": false,
    "memoryGiB": 4,
    "name": "ml.t3.medium",
    "vcpuNum": 2
   },
   {
    "_defaultOrder": 1,
    "_isFastLaunch": false,
    "category": "General purpose",
    "gpuNum": 0,
    "hideHardwareSpecs": false,
    "memoryGiB": 8,
    "name": "ml.t3.large",
    "vcpuNum": 2
   },
   {
    "_defaultOrder": 2,
    "_isFastLaunch": false,
    "category": "General purpose",
    "gpuNum": 0,
    "hideHardwareSpecs": false,
    "memoryGiB": 16,
    "name": "ml.t3.xlarge",
    "vcpuNum": 4
   },
   {
    "_defaultOrder": 3,
    "_isFastLaunch": false,
    "category": "General purpose",
    "gpuNum": 0,
    "hideHardwareSpecs": false,
    "memoryGiB": 32,
    "name": "ml.t3.2xlarge",
    "vcpuNum": 8
   },
   {
    "_defaultOrder": 4,
    "_isFastLaunch": true,
    "category": "General purpose",
    "gpuNum": 0,
    "hideHardwareSpecs": false,
    "memoryGiB": 8,
    "name": "ml.m5.large",
    "vcpuNum": 2
   },
   {
    "_defaultOrder": 5,
    "_isFastLaunch": false,
    "category": "General purpose",
    "gpuNum": 0,
    "hideHardwareSpecs": false,
    "memoryGiB": 16,
    "name": "ml.m5.xlarge",
    "vcpuNum": 4
   },
   {
    "_defaultOrder": 6,
    "_isFastLaunch": false,
    "category": "General purpose",
    "gpuNum": 0,
    "hideHardwareSpecs": false,
    "memoryGiB": 32,
    "name": "ml.m5.2xlarge",
    "vcpuNum": 8
   },
   {
    "_defaultOrder": 7,
    "_isFastLaunch": false,
    "category": "General purpose",
    "gpuNum": 0,
    "hideHardwareSpecs": false,
    "memoryGiB": 64,
    "name": "ml.m5.4xlarge",
    "vcpuNum": 16
   },
   {
    "_defaultOrder": 8,
    "_isFastLaunch": false,
    "category": "General purpose",
    "gpuNum": 0,
    "hideHardwareSpecs": false,
    "memoryGiB": 128,
    "name": "ml.m5.8xlarge",
    "vcpuNum": 32
   },
   {
    "_defaultOrder": 9,
    "_isFastLaunch": false,
    "category": "General purpose",
    "gpuNum": 0,
    "hideHardwareSpecs": false,
    "memoryGiB": 192,
    "name": "ml.m5.12xlarge",
    "vcpuNum": 48
   },
   {
    "_defaultOrder": 10,
    "_isFastLaunch": false,
    "category": "General purpose",
    "gpuNum": 0,
    "hideHardwareSpecs": false,
    "memoryGiB": 256,
    "name": "ml.m5.16xlarge",
    "vcpuNum": 64
   },
   {
    "_defaultOrder": 11,
    "_isFastLaunch": false,
    "category": "General purpose",
    "gpuNum": 0,
    "hideHardwareSpecs": false,
    "memoryGiB": 384,
    "name": "ml.m5.24xlarge",
    "vcpuNum": 96
   },
   {
    "_defaultOrder": 12,
    "_isFastLaunch": false,
    "category": "General purpose",
    "gpuNum": 0,
    "hideHardwareSpecs": false,
    "memoryGiB": 8,
    "name": "ml.m5d.large",
    "vcpuNum": 2
   },
   {
    "_defaultOrder": 13,
    "_isFastLaunch": false,
    "category": "General purpose",
    "gpuNum": 0,
    "hideHardwareSpecs": false,
    "memoryGiB": 16,
    "name": "ml.m5d.xlarge",
    "vcpuNum": 4
   },
   {
    "_defaultOrder": 14,
    "_isFastLaunch": false,
    "category": "General purpose",
    "gpuNum": 0,
    "hideHardwareSpecs": false,
    "memoryGiB": 32,
    "name": "ml.m5d.2xlarge",
    "vcpuNum": 8
   },
   {
    "_defaultOrder": 15,
    "_isFastLaunch": false,
    "category": "General purpose",
    "gpuNum": 0,
    "hideHardwareSpecs": false,
    "memoryGiB": 64,
    "name": "ml.m5d.4xlarge",
    "vcpuNum": 16
   },
   {
    "_defaultOrder": 16,
    "_isFastLaunch": false,
    "category": "General purpose",
    "gpuNum": 0,
    "hideHardwareSpecs": false,
    "memoryGiB": 128,
    "name": "ml.m5d.8xlarge",
    "vcpuNum": 32
   },
   {
    "_defaultOrder": 17,
    "_isFastLaunch": false,
    "category": "General purpose",
    "gpuNum": 0,
    "hideHardwareSpecs": false,
    "memoryGiB": 192,
    "name": "ml.m5d.12xlarge",
    "vcpuNum": 48
   },
   {
    "_defaultOrder": 18,
    "_isFastLaunch": false,
    "category": "General purpose",
    "gpuNum": 0,
    "hideHardwareSpecs": false,
    "memoryGiB": 256,
    "name": "ml.m5d.16xlarge",
    "vcpuNum": 64
   },
   {
    "_defaultOrder": 19,
    "_isFastLaunch": false,
    "category": "General purpose",
    "gpuNum": 0,
    "hideHardwareSpecs": false,
    "memoryGiB": 384,
    "name": "ml.m5d.24xlarge",
    "vcpuNum": 96
   },
   {
    "_defaultOrder": 20,
    "_isFastLaunch": false,
    "category": "General purpose",
    "gpuNum": 0,
    "hideHardwareSpecs": true,
    "memoryGiB": 0,
    "name": "ml.geospatial.interactive",
    "supportedImageNames": [
     "sagemaker-geospatial-v1-0"
    ],
    "vcpuNum": 0
   },
   {
    "_defaultOrder": 21,
    "_isFastLaunch": true,
    "category": "Compute optimized",
    "gpuNum": 0,
    "hideHardwareSpecs": false,
    "memoryGiB": 4,
    "name": "ml.c5.large",
    "vcpuNum": 2
   },
   {
    "_defaultOrder": 22,
    "_isFastLaunch": false,
    "category": "Compute optimized",
    "gpuNum": 0,
    "hideHardwareSpecs": false,
    "memoryGiB": 8,
    "name": "ml.c5.xlarge",
    "vcpuNum": 4
   },
   {
    "_defaultOrder": 23,
    "_isFastLaunch": false,
    "category": "Compute optimized",
    "gpuNum": 0,
    "hideHardwareSpecs": false,
    "memoryGiB": 16,
    "name": "ml.c5.2xlarge",
    "vcpuNum": 8
   },
   {
    "_defaultOrder": 24,
    "_isFastLaunch": false,
    "category": "Compute optimized",
    "gpuNum": 0,
    "hideHardwareSpecs": false,
    "memoryGiB": 32,
    "name": "ml.c5.4xlarge",
    "vcpuNum": 16
   },
   {
    "_defaultOrder": 25,
    "_isFastLaunch": false,
    "category": "Compute optimized",
    "gpuNum": 0,
    "hideHardwareSpecs": false,
    "memoryGiB": 72,
    "name": "ml.c5.9xlarge",
    "vcpuNum": 36
   },
   {
    "_defaultOrder": 26,
    "_isFastLaunch": false,
    "category": "Compute optimized",
    "gpuNum": 0,
    "hideHardwareSpecs": false,
    "memoryGiB": 96,
    "name": "ml.c5.12xlarge",
    "vcpuNum": 48
   },
   {
    "_defaultOrder": 27,
    "_isFastLaunch": false,
    "category": "Compute optimized",
    "gpuNum": 0,
    "hideHardwareSpecs": false,
    "memoryGiB": 144,
    "name": "ml.c5.18xlarge",
    "vcpuNum": 72
   },
   {
    "_defaultOrder": 28,
    "_isFastLaunch": false,
    "category": "Compute optimized",
    "gpuNum": 0,
    "hideHardwareSpecs": false,
    "memoryGiB": 192,
    "name": "ml.c5.24xlarge",
    "vcpuNum": 96
   },
   {
    "_defaultOrder": 29,
    "_isFastLaunch": true,
    "category": "Accelerated computing",
    "gpuNum": 1,
    "hideHardwareSpecs": false,
    "memoryGiB": 16,
    "name": "ml.g4dn.xlarge",
    "vcpuNum": 4
   },
   {
    "_defaultOrder": 30,
    "_isFastLaunch": false,
    "category": "Accelerated computing",
    "gpuNum": 1,
    "hideHardwareSpecs": false,
    "memoryGiB": 32,
    "name": "ml.g4dn.2xlarge",
    "vcpuNum": 8
   },
   {
    "_defaultOrder": 31,
    "_isFastLaunch": false,
    "category": "Accelerated computing",
    "gpuNum": 1,
    "hideHardwareSpecs": false,
    "memoryGiB": 64,
    "name": "ml.g4dn.4xlarge",
    "vcpuNum": 16
   },
   {
    "_defaultOrder": 32,
    "_isFastLaunch": false,
    "category": "Accelerated computing",
    "gpuNum": 1,
    "hideHardwareSpecs": false,
    "memoryGiB": 128,
    "name": "ml.g4dn.8xlarge",
    "vcpuNum": 32
   },
   {
    "_defaultOrder": 33,
    "_isFastLaunch": false,
    "category": "Accelerated computing",
    "gpuNum": 4,
    "hideHardwareSpecs": false,
    "memoryGiB": 192,
    "name": "ml.g4dn.12xlarge",
    "vcpuNum": 48
   },
   {
    "_defaultOrder": 34,
    "_isFastLaunch": false,
    "category": "Accelerated computing",
    "gpuNum": 1,
    "hideHardwareSpecs": false,
    "memoryGiB": 256,
    "name": "ml.g4dn.16xlarge",
    "vcpuNum": 64
   },
   {
    "_defaultOrder": 35,
    "_isFastLaunch": false,
    "category": "Accelerated computing",
    "gpuNum": 1,
    "hideHardwareSpecs": false,
    "memoryGiB": 61,
    "name": "ml.p3.2xlarge",
    "vcpuNum": 8
   },
   {
    "_defaultOrder": 36,
    "_isFastLaunch": false,
    "category": "Accelerated computing",
    "gpuNum": 4,
    "hideHardwareSpecs": false,
    "memoryGiB": 244,
    "name": "ml.p3.8xlarge",
    "vcpuNum": 32
   },
   {
    "_defaultOrder": 37,
    "_isFastLaunch": false,
    "category": "Accelerated computing",
    "gpuNum": 8,
    "hideHardwareSpecs": false,
    "memoryGiB": 488,
    "name": "ml.p3.16xlarge",
    "vcpuNum": 64
   },
   {
    "_defaultOrder": 38,
    "_isFastLaunch": false,
    "category": "Accelerated computing",
    "gpuNum": 8,
    "hideHardwareSpecs": false,
    "memoryGiB": 768,
    "name": "ml.p3dn.24xlarge",
    "vcpuNum": 96
   },
   {
    "_defaultOrder": 39,
    "_isFastLaunch": false,
    "category": "Memory Optimized",
    "gpuNum": 0,
    "hideHardwareSpecs": false,
    "memoryGiB": 16,
    "name": "ml.r5.large",
    "vcpuNum": 2
   },
   {
    "_defaultOrder": 40,
    "_isFastLaunch": false,
    "category": "Memory Optimized",
    "gpuNum": 0,
    "hideHardwareSpecs": false,
    "memoryGiB": 32,
    "name": "ml.r5.xlarge",
    "vcpuNum": 4
   },
   {
    "_defaultOrder": 41,
    "_isFastLaunch": false,
    "category": "Memory Optimized",
    "gpuNum": 0,
    "hideHardwareSpecs": false,
    "memoryGiB": 64,
    "name": "ml.r5.2xlarge",
    "vcpuNum": 8
   },
   {
    "_defaultOrder": 42,
    "_isFastLaunch": false,
    "category": "Memory Optimized",
    "gpuNum": 0,
    "hideHardwareSpecs": false,
    "memoryGiB": 128,
    "name": "ml.r5.4xlarge",
    "vcpuNum": 16
   },
   {
    "_defaultOrder": 43,
    "_isFastLaunch": false,
    "category": "Memory Optimized",
    "gpuNum": 0,
    "hideHardwareSpecs": false,
    "memoryGiB": 256,
    "name": "ml.r5.8xlarge",
    "vcpuNum": 32
   },
   {
    "_defaultOrder": 44,
    "_isFastLaunch": false,
    "category": "Memory Optimized",
    "gpuNum": 0,
    "hideHardwareSpecs": false,
    "memoryGiB": 384,
    "name": "ml.r5.12xlarge",
    "vcpuNum": 48
   },
   {
    "_defaultOrder": 45,
    "_isFastLaunch": false,
    "category": "Memory Optimized",
    "gpuNum": 0,
    "hideHardwareSpecs": false,
    "memoryGiB": 512,
    "name": "ml.r5.16xlarge",
    "vcpuNum": 64
   },
   {
    "_defaultOrder": 46,
    "_isFastLaunch": false,
    "category": "Memory Optimized",
    "gpuNum": 0,
    "hideHardwareSpecs": false,
    "memoryGiB": 768,
    "name": "ml.r5.24xlarge",
    "vcpuNum": 96
   },
   {
    "_defaultOrder": 47,
    "_isFastLaunch": false,
    "category": "Accelerated computing",
    "gpuNum": 1,
    "hideHardwareSpecs": false,
    "memoryGiB": 16,
    "name": "ml.g5.xlarge",
    "vcpuNum": 4
   },
   {
    "_defaultOrder": 48,
    "_isFastLaunch": false,
    "category": "Accelerated computing",
    "gpuNum": 1,
    "hideHardwareSpecs": false,
    "memoryGiB": 32,
    "name": "ml.g5.2xlarge",
    "vcpuNum": 8
   },
   {
    "_defaultOrder": 49,
    "_isFastLaunch": false,
    "category": "Accelerated computing",
    "gpuNum": 1,
    "hideHardwareSpecs": false,
    "memoryGiB": 64,
    "name": "ml.g5.4xlarge",
    "vcpuNum": 16
   },
   {
    "_defaultOrder": 50,
    "_isFastLaunch": false,
    "category": "Accelerated computing",
    "gpuNum": 1,
    "hideHardwareSpecs": false,
    "memoryGiB": 128,
    "name": "ml.g5.8xlarge",
    "vcpuNum": 32
   },
   {
    "_defaultOrder": 51,
    "_isFastLaunch": false,
    "category": "Accelerated computing",
    "gpuNum": 1,
    "hideHardwareSpecs": false,
    "memoryGiB": 256,
    "name": "ml.g5.16xlarge",
    "vcpuNum": 64
   },
   {
    "_defaultOrder": 52,
    "_isFastLaunch": false,
    "category": "Accelerated computing",
    "gpuNum": 4,
    "hideHardwareSpecs": false,
    "memoryGiB": 192,
    "name": "ml.g5.12xlarge",
    "vcpuNum": 48
   },
   {
    "_defaultOrder": 53,
    "_isFastLaunch": false,
    "category": "Accelerated computing",
    "gpuNum": 4,
    "hideHardwareSpecs": false,
    "memoryGiB": 384,
    "name": "ml.g5.24xlarge",
    "vcpuNum": 96
   },
   {
    "_defaultOrder": 54,
    "_isFastLaunch": false,
    "category": "Accelerated computing",
    "gpuNum": 8,
    "hideHardwareSpecs": false,
    "memoryGiB": 768,
    "name": "ml.g5.48xlarge",
    "vcpuNum": 192
   },
   {
    "_defaultOrder": 55,
    "_isFastLaunch": false,
    "category": "Accelerated computing",
    "gpuNum": 8,
    "hideHardwareSpecs": false,
    "memoryGiB": 1152,
    "name": "ml.p4d.24xlarge",
    "vcpuNum": 96
   },
   {
    "_defaultOrder": 56,
    "_isFastLaunch": false,
    "category": "Accelerated computing",
    "gpuNum": 8,
    "hideHardwareSpecs": false,
    "memoryGiB": 1152,
    "name": "ml.p4de.24xlarge",
    "vcpuNum": 96
   },
   {
    "_defaultOrder": 57,
    "_isFastLaunch": false,
    "category": "Accelerated computing",
    "gpuNum": 0,
    "hideHardwareSpecs": false,
    "memoryGiB": 32,
    "name": "ml.trn1.2xlarge",
    "vcpuNum": 8
   },
   {
    "_defaultOrder": 58,
    "_isFastLaunch": false,
    "category": "Accelerated computing",
    "gpuNum": 0,
    "hideHardwareSpecs": false,
    "memoryGiB": 512,
    "name": "ml.trn1.32xlarge",
    "vcpuNum": 128
   },
   {
    "_defaultOrder": 59,
    "_isFastLaunch": false,
    "category": "Accelerated computing",
    "gpuNum": 0,
    "hideHardwareSpecs": false,
    "memoryGiB": 512,
    "name": "ml.trn1n.32xlarge",
    "vcpuNum": 128
   }
  ],
  "instance_type": "ml.t3.medium",
  "kernelspec": {
   "display_name": "Python 3 (Data Science 3.0)",
   "language": "python",
   "name": "python3__SAGEMAKER_INTERNAL__arn:aws-us-gov:sagemaker:us-gov-west-1:107173498710:image/sagemaker-data-science-310-v1"
  },
  "language_info": {
   "codemirror_mode": {
    "name": "ipython",
    "version": 3
   },
   "file_extension": ".py",
   "mimetype": "text/x-python",
   "name": "python",
   "nbconvert_exporter": "python",
   "pygments_lexer": "ipython3",
   "version": "3.10.6"
  }
 },
 "nbformat": 4,
 "nbformat_minor": 5
}
