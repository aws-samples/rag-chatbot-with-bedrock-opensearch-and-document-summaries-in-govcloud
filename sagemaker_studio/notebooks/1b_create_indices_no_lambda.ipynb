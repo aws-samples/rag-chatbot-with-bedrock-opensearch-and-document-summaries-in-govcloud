{
 "cells": [
  {
   "cell_type": "markdown",
   "id": "127d4b13-956a-4150-a809-07a02af65d9c",
   "metadata": {},
   "source": [
    "# 1b - Create OpenSearch indices for document summaries and full document text\n",
    "Run this notebook if the chatbot demo CloudFormation parameter CreateLambda was set to No.\n",
    "## IMPORTANT: This notebook's functionality is duplicate of the Lambda function chatbot-demo-lambda-opensearch-setup which is created by the Chatbot Demo CloudFormation stack.  There is no need to run this if the Lambda function has been executed."
   ]
  },
  {
   "cell_type": "markdown",
   "id": "21896334-edb6-4a8a-97f2-cbca5f5bebc3",
   "metadata": {},
   "source": [
    "#### Install dependencies"
   ]
  },
  {
   "cell_type": "code",
   "execution_count": null,
   "id": "cf08be3c-1533-4f84-b24e-4aba9513002d",
   "metadata": {
    "tags": []
   },
   "outputs": [],
   "source": [
    "!pip install opensearch-py-ml accelerate sentence-transformers deprecated pandas==2.0.3"
   ]
  },
  {
   "cell_type": "markdown",
   "id": "0076b2f7-f4a0-49b5-8716-6b341a11e0ee",
   "metadata": {},
   "source": [
    "#### Import dependencies"
   ]
  },
  {
   "cell_type": "code",
   "execution_count": null,
   "id": "a46b3912-527c-4c40-b383-26c338e7e0db",
   "metadata": {
    "tags": []
   },
   "outputs": [],
   "source": [
    "import boto3\n",
    "#import re\n",
    "#import time\n",
    "from opensearchpy import OpenSearch, RequestsHttpConnection, AWSV4SignerAuth, helpers\n",
    "from opensearch_py_ml.ml_models import SentenceTransformerModel\n",
    "from opensearch_py_ml.ml_commons import MLCommonClient"
   ]
  },
  {
   "cell_type": "markdown",
   "id": "b5a55efd-296b-4e6d-bda0-e5895cdb9cea",
   "metadata": {
    "tags": []
   },
   "source": [
    "#### Get a boto3 session and retrieve the region name"
   ]
  },
  {
   "cell_type": "code",
   "execution_count": null,
   "id": "00a85d95-c081-46a4-90bb-e211f4b7cea6",
   "metadata": {
    "tags": []
   },
   "outputs": [],
   "source": [
    "session = boto3.session.Session()\n",
    "region_name = session.region_name\n",
    "\n",
    "print(\"Region is\", region_name)\n",
    "%store region_name"
   ]
  },
  {
   "cell_type": "markdown",
   "id": "426d2d93-3253-459d-9a12-b929f43637a0",
   "metadata": {},
   "source": [
    "#### Set the name of the OpenSearch domain created by the CloudFormation stack.  Should be chatbot-demo."
   ]
  },
  {
   "cell_type": "code",
   "execution_count": null,
   "id": "753ae681-3f0c-4fa6-aae8-3b6e45270998",
   "metadata": {
    "tags": []
   },
   "outputs": [],
   "source": [
    "opensearch_domain_name = \"chatbot-demo\""
   ]
  },
  {
   "cell_type": "markdown",
   "id": "5eb61e2f-cb39-4315-aa21-993ac07d8120",
   "metadata": {},
   "source": [
    "#### Retrieve the endpoint of the OpenSearch domain created by the CloudFormation stack."
   ]
  },
  {
   "cell_type": "code",
   "execution_count": null,
   "id": "545a5c73-545a-4c51-ba36-4a1873a2697d",
   "metadata": {
    "tags": []
   },
   "outputs": [],
   "source": [
    "opensearch_client = boto3.client(\"opensearch\")\n",
    "response = opensearch_client.describe_domain(\n",
    "    DomainName = opensearch_domain_name\n",
    ")\n",
    "host = response['DomainStatus']['Endpoints']['vpc']\n",
    "%store host\n",
    "print(\"The endpoint for the OpenSearch domain\", opensearch_domain_name, \"is\", host)"
   ]
  },
  {
   "cell_type": "markdown",
   "id": "63573d8c-1190-4c97-9165-11c727ac69f6",
   "metadata": {},
   "source": [
    "#### Get a client for the OpenSearch endpoint"
   ]
  },
  {
   "cell_type": "code",
   "execution_count": null,
   "id": "42a29935-f95e-476e-b5c0-ab7edca13958",
   "metadata": {
    "tags": []
   },
   "outputs": [],
   "source": [
    "credentials = boto3.Session().get_credentials()\n",
    "auth = AWSV4SignerAuth(credentials, region_name)\n",
    "\n",
    "opensearch_client = OpenSearch(\n",
    "    hosts = [{'host': host, 'port': 443}],\n",
    "    http_auth = auth,\n",
    "    use_ssl = True,\n",
    "    verify_certs = True,\n",
    "    connection_class = RequestsHttpConnection\n",
    ")"
   ]
  },
  {
   "cell_type": "markdown",
   "id": "6a5bd658-797d-408a-b813-0306d71a0c56",
   "metadata": {},
   "source": [
    "#### Store key parameters for later use"
   ]
  },
  {
   "cell_type": "code",
   "execution_count": null,
   "id": "894b9e01-c5ce-4b48-95cf-590b91125b4b",
   "metadata": {
    "tags": []
   },
   "outputs": [],
   "source": [
    "summary_index_name = \"chatbot-summary\"\n",
    "full_text_index_name = \"chatbot-full_text\"\n",
    "pipeline_id = \"chatbot-nlp-pipeline\"\n",
    "%store summary_index_name\n",
    "%store full_text_index_name\n",
    "%store pipeline_id"
   ]
  },
  {
   "cell_type": "markdown",
   "id": "11db4c2f-10b1-46be-8aae-698a412b7a05",
   "metadata": {},
   "source": [
    "#### Make OpenSearch cluster setting for ml_commons only_run_on_ml_mode to false"
   ]
  },
  {
   "cell_type": "code",
   "execution_count": null,
   "id": "2948ace0-d2ce-43e2-91f6-e6f298c0a7b4",
   "metadata": {
    "tags": []
   },
   "outputs": [],
   "source": [
    "s = b'{\"transient\":{\"plugins.ml_commons.only_run_on_ml_node\": false}}'\n",
    "opensearch_client.cluster.put_settings(body=s)"
   ]
  },
  {
   "cell_type": "markdown",
   "id": "7a2e62ee-ac5e-453e-946e-cbb6e021633f",
   "metadata": {},
   "source": [
    "#### Read back the OpenSearch cluster settings to confirm"
   ]
  },
  {
   "cell_type": "code",
   "execution_count": null,
   "id": "0c93c372-f7a8-4d68-babf-89c600f0d5c6",
   "metadata": {
    "tags": []
   },
   "outputs": [],
   "source": [
    "opensearch_client.cluster.get_settings(flat_settings=True)"
   ]
  },
  {
   "cell_type": "markdown",
   "id": "d9768d2e-6e61-4872-bdb2-a0ff66475557",
   "metadata": {},
   "source": [
    "#### Register the distillbert-roberta-v1 model in OpenSearch ML Commons and get model_id\n",
    "Note: This can take a while."
   ]
  },
  {
   "cell_type": "code",
   "execution_count": null,
   "id": "93d34561-ea74-49a7-bc1a-ee648165bbc0",
   "metadata": {
    "tags": []
   },
   "outputs": [],
   "source": [
    "ml_client = MLCommonClient(opensearch_client)\n",
    "model_id = ml_client.register_pretrained_model(model_name = \"huggingface/sentence-transformers/all-distilroberta-v1\", model_version = \"1.0.1\", model_format = \"TORCH_SCRIPT\", deploy_model=True, wait_until_deployed=True)\n",
    "print(model_id)"
   ]
  },
  {
   "cell_type": "markdown",
   "id": "82f14a74-4304-4fe6-93aa-f3345ff7ad27",
   "metadata": {},
   "source": [
    "#### Store the model_id for later use"
   ]
  },
  {
   "cell_type": "code",
   "execution_count": null,
   "id": "eb2b78ad-146b-4c71-9d37-c011904e8bc6",
   "metadata": {
    "tags": []
   },
   "outputs": [],
   "source": [
    "%store model_id"
   ]
  },
  {
   "cell_type": "markdown",
   "id": "fcb54958-d2ea-4e47-b8e4-711435cd5d80",
   "metadata": {},
   "source": [
    "#### Read back model info from OpenSearch cluster to confirm\n",
    "model_state should be 'DEPLOYED'"
   ]
  },
  {
   "cell_type": "code",
   "execution_count": null,
   "id": "10717f63-fa90-43f5-b923-9b1d3f1a63ed",
   "metadata": {
    "tags": []
   },
   "outputs": [],
   "source": [
    "model_info = ml_client.get_model_info(model_id)\n",
    "\n",
    "print(model_info)"
   ]
  },
  {
   "cell_type": "markdown",
   "id": "db81340c-74c3-46eb-a759-506c549100bd",
   "metadata": {},
   "source": [
    "#### Define the OpenSearch neural search ingestion pipeline"
   ]
  },
  {
   "cell_type": "code",
   "execution_count": null,
   "id": "b4ad1cf2-34f0-4d84-9ddf-97732d454b59",
   "metadata": {
    "tags": []
   },
   "outputs": [],
   "source": [
    "pipeline={\n",
    "  \"description\": \"Neural search pipeline\",\n",
    "  \"processors\" : [\n",
    "    {\n",
    "      \"text_embedding\": {\n",
    "        \"model_id\": model_id,\n",
    "        \"field_map\": {\n",
    "           \"text\": \"text_embedding\"\n",
    "        }\n",
    "      }\n",
    "    }\n",
    "  ]\n",
    "}\n",
    "opensearch_client.ingest.put_pipeline(id=pipeline_id,body=pipeline)"
   ]
  },
  {
   "cell_type": "markdown",
   "id": "4a1df1de-9ad4-45c0-8ad1-2d878188e097",
   "metadata": {},
   "source": [
    "#### Read back the ingestion pipeline to confirm"
   ]
  },
  {
   "cell_type": "code",
   "execution_count": null,
   "id": "50554885-d881-4b24-8bf5-7f8b85c1ece2",
   "metadata": {
    "tags": []
   },
   "outputs": [],
   "source": [
    "opensearch_client.ingest.get_pipeline(id=pipeline_id)"
   ]
  },
  {
   "cell_type": "markdown",
   "id": "50e2c5c3-b3f6-4ec9-9d1b-8abf5247b857",
   "metadata": {},
   "source": [
    "#### Define the knn index"
   ]
  },
  {
   "cell_type": "code",
   "execution_count": null,
   "id": "2736a29f-2ec8-4860-94d4-c3cc819407c2",
   "metadata": {
    "tags": []
   },
   "outputs": [],
   "source": [
    "knn_index = {\n",
    "  \"settings\": {\n",
    "    \"index.knn\": True,\n",
    "    \"default_pipeline\": pipeline_id\n",
    "  },\n",
    "  \"mappings\": {\n",
    "    \"properties\": {\n",
    "      \"document\": {\n",
    "        \"type\": \"text\"\n",
    "      },\n",
    "      \"section\": {\n",
    "        \"type\": \"integer\"\n",
    "      },\n",
    "      \"text_embedding\": {\n",
    "        \"type\": \"knn_vector\",\n",
    "        \"dimension\": 768,\n",
    "        \"method\": {\n",
    "          \"engine\": \"faiss\",\n",
    "          \"space_type\": \"l2\",\n",
    "          \"name\": \"hnsw\",\n",
    "          \"parameters\": {}\n",
    "        }\n",
    "      },\n",
    "      \"text\": {\n",
    "        \"type\": \"text\"\n",
    "      }\n",
    "    }\n",
    "  }\n",
    "}"
   ]
  },
  {
   "cell_type": "markdown",
   "id": "ead836ad-8f31-406d-9790-76f0fd45c238",
   "metadata": {},
   "source": [
    "#### Create the index for document summaries"
   ]
  },
  {
   "cell_type": "code",
   "execution_count": null,
   "id": "5013d784-a0b3-47a2-abc7-a720ddc52c16",
   "metadata": {
    "tags": []
   },
   "outputs": [],
   "source": [
    "opensearch_client.indices.create(index=summary_index_name, body=knn_index, ignore=400)"
   ]
  },
  {
   "cell_type": "markdown",
   "id": "13ef867a-948a-468b-aac2-ec4d3f4a6e9a",
   "metadata": {},
   "source": [
    "#### Create the index for the full text summaries"
   ]
  },
  {
   "cell_type": "code",
   "execution_count": null,
   "id": "4d6a22d1-dab9-416d-9022-51ad8f08d2aa",
   "metadata": {
    "tags": []
   },
   "outputs": [],
   "source": [
    "opensearch_client.indices.create(index=full_text_index_name, body=knn_index, ignore=400)"
   ]
  },
  {
   "cell_type": "markdown",
   "id": "914ba55e-90b1-4387-946a-8c3adece717a",
   "metadata": {},
   "source": [
    "#### Read back the list of OpenSearch indices to confirm"
   ]
  },
  {
   "cell_type": "code",
   "execution_count": null,
   "id": "ff68c9ba-acae-4ce1-bccc-0230b114a06a",
   "metadata": {
    "tags": []
   },
   "outputs": [],
   "source": [
    "for index in opensearch_client.indices.get('*'):\n",
    "    print(index)"
   ]
  },
  {
   "cell_type": "markdown",
   "id": "cd8c17d4-4133-4cbf-9c37-9f4ac85cd8c3",
   "metadata": {},
   "source": [
    "#### Copyright Amazon.com, Inc. or its affiliates. All Rights Reserved.\n",
    "#### SPDX-License-Identifier: MIT-0"
   ]
  },
  {
   "cell_type": "code",
   "execution_count": null,
   "id": "6c77091d-8716-473e-9650-6c8e6d0c6c5b",
   "metadata": {},
   "outputs": [],
   "source": []
  }
 ],
 "metadata": {
  "availableInstances": [
   {
    "_defaultOrder": 0,
    "_isFastLaunch": true,
    "category": "General purpose",
    "gpuNum": 0,
    "hideHardwareSpecs": false,
    "memoryGiB": 4,
    "name": "ml.t3.medium",
    "vcpuNum": 2
   },
   {
    "_defaultOrder": 1,
    "_isFastLaunch": false,
    "category": "General purpose",
    "gpuNum": 0,
    "hideHardwareSpecs": false,
    "memoryGiB": 8,
    "name": "ml.t3.large",
    "vcpuNum": 2
   },
   {
    "_defaultOrder": 2,
    "_isFastLaunch": false,
    "category": "General purpose",
    "gpuNum": 0,
    "hideHardwareSpecs": false,
    "memoryGiB": 16,
    "name": "ml.t3.xlarge",
    "vcpuNum": 4
   },
   {
    "_defaultOrder": 3,
    "_isFastLaunch": false,
    "category": "General purpose",
    "gpuNum": 0,
    "hideHardwareSpecs": false,
    "memoryGiB": 32,
    "name": "ml.t3.2xlarge",
    "vcpuNum": 8
   },
   {
    "_defaultOrder": 4,
    "_isFastLaunch": true,
    "category": "General purpose",
    "gpuNum": 0,
    "hideHardwareSpecs": false,
    "memoryGiB": 8,
    "name": "ml.m5.large",
    "vcpuNum": 2
   },
   {
    "_defaultOrder": 5,
    "_isFastLaunch": false,
    "category": "General purpose",
    "gpuNum": 0,
    "hideHardwareSpecs": false,
    "memoryGiB": 16,
    "name": "ml.m5.xlarge",
    "vcpuNum": 4
   },
   {
    "_defaultOrder": 6,
    "_isFastLaunch": false,
    "category": "General purpose",
    "gpuNum": 0,
    "hideHardwareSpecs": false,
    "memoryGiB": 32,
    "name": "ml.m5.2xlarge",
    "vcpuNum": 8
   },
   {
    "_defaultOrder": 7,
    "_isFastLaunch": false,
    "category": "General purpose",
    "gpuNum": 0,
    "hideHardwareSpecs": false,
    "memoryGiB": 64,
    "name": "ml.m5.4xlarge",
    "vcpuNum": 16
   },
   {
    "_defaultOrder": 8,
    "_isFastLaunch": false,
    "category": "General purpose",
    "gpuNum": 0,
    "hideHardwareSpecs": false,
    "memoryGiB": 128,
    "name": "ml.m5.8xlarge",
    "vcpuNum": 32
   },
   {
    "_defaultOrder": 9,
    "_isFastLaunch": false,
    "category": "General purpose",
    "gpuNum": 0,
    "hideHardwareSpecs": false,
    "memoryGiB": 192,
    "name": "ml.m5.12xlarge",
    "vcpuNum": 48
   },
   {
    "_defaultOrder": 10,
    "_isFastLaunch": false,
    "category": "General purpose",
    "gpuNum": 0,
    "hideHardwareSpecs": false,
    "memoryGiB": 256,
    "name": "ml.m5.16xlarge",
    "vcpuNum": 64
   },
   {
    "_defaultOrder": 11,
    "_isFastLaunch": false,
    "category": "General purpose",
    "gpuNum": 0,
    "hideHardwareSpecs": false,
    "memoryGiB": 384,
    "name": "ml.m5.24xlarge",
    "vcpuNum": 96
   },
   {
    "_defaultOrder": 12,
    "_isFastLaunch": false,
    "category": "General purpose",
    "gpuNum": 0,
    "hideHardwareSpecs": false,
    "memoryGiB": 8,
    "name": "ml.m5d.large",
    "vcpuNum": 2
   },
   {
    "_defaultOrder": 13,
    "_isFastLaunch": false,
    "category": "General purpose",
    "gpuNum": 0,
    "hideHardwareSpecs": false,
    "memoryGiB": 16,
    "name": "ml.m5d.xlarge",
    "vcpuNum": 4
   },
   {
    "_defaultOrder": 14,
    "_isFastLaunch": false,
    "category": "General purpose",
    "gpuNum": 0,
    "hideHardwareSpecs": false,
    "memoryGiB": 32,
    "name": "ml.m5d.2xlarge",
    "vcpuNum": 8
   },
   {
    "_defaultOrder": 15,
    "_isFastLaunch": false,
    "category": "General purpose",
    "gpuNum": 0,
    "hideHardwareSpecs": false,
    "memoryGiB": 64,
    "name": "ml.m5d.4xlarge",
    "vcpuNum": 16
   },
   {
    "_defaultOrder": 16,
    "_isFastLaunch": false,
    "category": "General purpose",
    "gpuNum": 0,
    "hideHardwareSpecs": false,
    "memoryGiB": 128,
    "name": "ml.m5d.8xlarge",
    "vcpuNum": 32
   },
   {
    "_defaultOrder": 17,
    "_isFastLaunch": false,
    "category": "General purpose",
    "gpuNum": 0,
    "hideHardwareSpecs": false,
    "memoryGiB": 192,
    "name": "ml.m5d.12xlarge",
    "vcpuNum": 48
   },
   {
    "_defaultOrder": 18,
    "_isFastLaunch": false,
    "category": "General purpose",
    "gpuNum": 0,
    "hideHardwareSpecs": false,
    "memoryGiB": 256,
    "name": "ml.m5d.16xlarge",
    "vcpuNum": 64
   },
   {
    "_defaultOrder": 19,
    "_isFastLaunch": false,
    "category": "General purpose",
    "gpuNum": 0,
    "hideHardwareSpecs": false,
    "memoryGiB": 384,
    "name": "ml.m5d.24xlarge",
    "vcpuNum": 96
   },
   {
    "_defaultOrder": 20,
    "_isFastLaunch": false,
    "category": "General purpose",
    "gpuNum": 0,
    "hideHardwareSpecs": true,
    "memoryGiB": 0,
    "name": "ml.geospatial.interactive",
    "supportedImageNames": [
     "sagemaker-geospatial-v1-0"
    ],
    "vcpuNum": 0
   },
   {
    "_defaultOrder": 21,
    "_isFastLaunch": true,
    "category": "Compute optimized",
    "gpuNum": 0,
    "hideHardwareSpecs": false,
    "memoryGiB": 4,
    "name": "ml.c5.large",
    "vcpuNum": 2
   },
   {
    "_defaultOrder": 22,
    "_isFastLaunch": false,
    "category": "Compute optimized",
    "gpuNum": 0,
    "hideHardwareSpecs": false,
    "memoryGiB": 8,
    "name": "ml.c5.xlarge",
    "vcpuNum": 4
   },
   {
    "_defaultOrder": 23,
    "_isFastLaunch": false,
    "category": "Compute optimized",
    "gpuNum": 0,
    "hideHardwareSpecs": false,
    "memoryGiB": 16,
    "name": "ml.c5.2xlarge",
    "vcpuNum": 8
   },
   {
    "_defaultOrder": 24,
    "_isFastLaunch": false,
    "category": "Compute optimized",
    "gpuNum": 0,
    "hideHardwareSpecs": false,
    "memoryGiB": 32,
    "name": "ml.c5.4xlarge",
    "vcpuNum": 16
   },
   {
    "_defaultOrder": 25,
    "_isFastLaunch": false,
    "category": "Compute optimized",
    "gpuNum": 0,
    "hideHardwareSpecs": false,
    "memoryGiB": 72,
    "name": "ml.c5.9xlarge",
    "vcpuNum": 36
   },
   {
    "_defaultOrder": 26,
    "_isFastLaunch": false,
    "category": "Compute optimized",
    "gpuNum": 0,
    "hideHardwareSpecs": false,
    "memoryGiB": 96,
    "name": "ml.c5.12xlarge",
    "vcpuNum": 48
   },
   {
    "_defaultOrder": 27,
    "_isFastLaunch": false,
    "category": "Compute optimized",
    "gpuNum": 0,
    "hideHardwareSpecs": false,
    "memoryGiB": 144,
    "name": "ml.c5.18xlarge",
    "vcpuNum": 72
   },
   {
    "_defaultOrder": 28,
    "_isFastLaunch": false,
    "category": "Compute optimized",
    "gpuNum": 0,
    "hideHardwareSpecs": false,
    "memoryGiB": 192,
    "name": "ml.c5.24xlarge",
    "vcpuNum": 96
   },
   {
    "_defaultOrder": 29,
    "_isFastLaunch": true,
    "category": "Accelerated computing",
    "gpuNum": 1,
    "hideHardwareSpecs": false,
    "memoryGiB": 16,
    "name": "ml.g4dn.xlarge",
    "vcpuNum": 4
   },
   {
    "_defaultOrder": 30,
    "_isFastLaunch": false,
    "category": "Accelerated computing",
    "gpuNum": 1,
    "hideHardwareSpecs": false,
    "memoryGiB": 32,
    "name": "ml.g4dn.2xlarge",
    "vcpuNum": 8
   },
   {
    "_defaultOrder": 31,
    "_isFastLaunch": false,
    "category": "Accelerated computing",
    "gpuNum": 1,
    "hideHardwareSpecs": false,
    "memoryGiB": 64,
    "name": "ml.g4dn.4xlarge",
    "vcpuNum": 16
   },
   {
    "_defaultOrder": 32,
    "_isFastLaunch": false,
    "category": "Accelerated computing",
    "gpuNum": 1,
    "hideHardwareSpecs": false,
    "memoryGiB": 128,
    "name": "ml.g4dn.8xlarge",
    "vcpuNum": 32
   },
   {
    "_defaultOrder": 33,
    "_isFastLaunch": false,
    "category": "Accelerated computing",
    "gpuNum": 4,
    "hideHardwareSpecs": false,
    "memoryGiB": 192,
    "name": "ml.g4dn.12xlarge",
    "vcpuNum": 48
   },
   {
    "_defaultOrder": 34,
    "_isFastLaunch": false,
    "category": "Accelerated computing",
    "gpuNum": 1,
    "hideHardwareSpecs": false,
    "memoryGiB": 256,
    "name": "ml.g4dn.16xlarge",
    "vcpuNum": 64
   },
   {
    "_defaultOrder": 35,
    "_isFastLaunch": false,
    "category": "Accelerated computing",
    "gpuNum": 1,
    "hideHardwareSpecs": false,
    "memoryGiB": 61,
    "name": "ml.p3.2xlarge",
    "vcpuNum": 8
   },
   {
    "_defaultOrder": 36,
    "_isFastLaunch": false,
    "category": "Accelerated computing",
    "gpuNum": 4,
    "hideHardwareSpecs": false,
    "memoryGiB": 244,
    "name": "ml.p3.8xlarge",
    "vcpuNum": 32
   },
   {
    "_defaultOrder": 37,
    "_isFastLaunch": false,
    "category": "Accelerated computing",
    "gpuNum": 8,
    "hideHardwareSpecs": false,
    "memoryGiB": 488,
    "name": "ml.p3.16xlarge",
    "vcpuNum": 64
   },
   {
    "_defaultOrder": 38,
    "_isFastLaunch": false,
    "category": "Accelerated computing",
    "gpuNum": 8,
    "hideHardwareSpecs": false,
    "memoryGiB": 768,
    "name": "ml.p3dn.24xlarge",
    "vcpuNum": 96
   },
   {
    "_defaultOrder": 39,
    "_isFastLaunch": false,
    "category": "Memory Optimized",
    "gpuNum": 0,
    "hideHardwareSpecs": false,
    "memoryGiB": 16,
    "name": "ml.r5.large",
    "vcpuNum": 2
   },
   {
    "_defaultOrder": 40,
    "_isFastLaunch": false,
    "category": "Memory Optimized",
    "gpuNum": 0,
    "hideHardwareSpecs": false,
    "memoryGiB": 32,
    "name": "ml.r5.xlarge",
    "vcpuNum": 4
   },
   {
    "_defaultOrder": 41,
    "_isFastLaunch": false,
    "category": "Memory Optimized",
    "gpuNum": 0,
    "hideHardwareSpecs": false,
    "memoryGiB": 64,
    "name": "ml.r5.2xlarge",
    "vcpuNum": 8
   },
   {
    "_defaultOrder": 42,
    "_isFastLaunch": false,
    "category": "Memory Optimized",
    "gpuNum": 0,
    "hideHardwareSpecs": false,
    "memoryGiB": 128,
    "name": "ml.r5.4xlarge",
    "vcpuNum": 16
   },
   {
    "_defaultOrder": 43,
    "_isFastLaunch": false,
    "category": "Memory Optimized",
    "gpuNum": 0,
    "hideHardwareSpecs": false,
    "memoryGiB": 256,
    "name": "ml.r5.8xlarge",
    "vcpuNum": 32
   },
   {
    "_defaultOrder": 44,
    "_isFastLaunch": false,
    "category": "Memory Optimized",
    "gpuNum": 0,
    "hideHardwareSpecs": false,
    "memoryGiB": 384,
    "name": "ml.r5.12xlarge",
    "vcpuNum": 48
   },
   {
    "_defaultOrder": 45,
    "_isFastLaunch": false,
    "category": "Memory Optimized",
    "gpuNum": 0,
    "hideHardwareSpecs": false,
    "memoryGiB": 512,
    "name": "ml.r5.16xlarge",
    "vcpuNum": 64
   },
   {
    "_defaultOrder": 46,
    "_isFastLaunch": false,
    "category": "Memory Optimized",
    "gpuNum": 0,
    "hideHardwareSpecs": false,
    "memoryGiB": 768,
    "name": "ml.r5.24xlarge",
    "vcpuNum": 96
   },
   {
    "_defaultOrder": 47,
    "_isFastLaunch": false,
    "category": "Accelerated computing",
    "gpuNum": 1,
    "hideHardwareSpecs": false,
    "memoryGiB": 16,
    "name": "ml.g5.xlarge",
    "vcpuNum": 4
   },
   {
    "_defaultOrder": 48,
    "_isFastLaunch": false,
    "category": "Accelerated computing",
    "gpuNum": 1,
    "hideHardwareSpecs": false,
    "memoryGiB": 32,
    "name": "ml.g5.2xlarge",
    "vcpuNum": 8
   },
   {
    "_defaultOrder": 49,
    "_isFastLaunch": false,
    "category": "Accelerated computing",
    "gpuNum": 1,
    "hideHardwareSpecs": false,
    "memoryGiB": 64,
    "name": "ml.g5.4xlarge",
    "vcpuNum": 16
   },
   {
    "_defaultOrder": 50,
    "_isFastLaunch": false,
    "category": "Accelerated computing",
    "gpuNum": 1,
    "hideHardwareSpecs": false,
    "memoryGiB": 128,
    "name": "ml.g5.8xlarge",
    "vcpuNum": 32
   },
   {
    "_defaultOrder": 51,
    "_isFastLaunch": false,
    "category": "Accelerated computing",
    "gpuNum": 1,
    "hideHardwareSpecs": false,
    "memoryGiB": 256,
    "name": "ml.g5.16xlarge",
    "vcpuNum": 64
   },
   {
    "_defaultOrder": 52,
    "_isFastLaunch": false,
    "category": "Accelerated computing",
    "gpuNum": 4,
    "hideHardwareSpecs": false,
    "memoryGiB": 192,
    "name": "ml.g5.12xlarge",
    "vcpuNum": 48
   },
   {
    "_defaultOrder": 53,
    "_isFastLaunch": false,
    "category": "Accelerated computing",
    "gpuNum": 4,
    "hideHardwareSpecs": false,
    "memoryGiB": 384,
    "name": "ml.g5.24xlarge",
    "vcpuNum": 96
   },
   {
    "_defaultOrder": 54,
    "_isFastLaunch": false,
    "category": "Accelerated computing",
    "gpuNum": 8,
    "hideHardwareSpecs": false,
    "memoryGiB": 768,
    "name": "ml.g5.48xlarge",
    "vcpuNum": 192
   },
   {
    "_defaultOrder": 55,
    "_isFastLaunch": false,
    "category": "Accelerated computing",
    "gpuNum": 8,
    "hideHardwareSpecs": false,
    "memoryGiB": 1152,
    "name": "ml.p4d.24xlarge",
    "vcpuNum": 96
   },
   {
    "_defaultOrder": 56,
    "_isFastLaunch": false,
    "category": "Accelerated computing",
    "gpuNum": 8,
    "hideHardwareSpecs": false,
    "memoryGiB": 1152,
    "name": "ml.p4de.24xlarge",
    "vcpuNum": 96
   },
   {
    "_defaultOrder": 57,
    "_isFastLaunch": false,
    "category": "Accelerated computing",
    "gpuNum": 0,
    "hideHardwareSpecs": false,
    "memoryGiB": 32,
    "name": "ml.trn1.2xlarge",
    "vcpuNum": 8
   },
   {
    "_defaultOrder": 58,
    "_isFastLaunch": false,
    "category": "Accelerated computing",
    "gpuNum": 0,
    "hideHardwareSpecs": false,
    "memoryGiB": 512,
    "name": "ml.trn1.32xlarge",
    "vcpuNum": 128
   },
   {
    "_defaultOrder": 59,
    "_isFastLaunch": false,
    "category": "Accelerated computing",
    "gpuNum": 0,
    "hideHardwareSpecs": false,
    "memoryGiB": 512,
    "name": "ml.trn1n.32xlarge",
    "vcpuNum": 128
   }
  ],
  "instance_type": "ml.t3.medium",
  "kernelspec": {
   "display_name": "Python 3 (Data Science 3.0)",
   "language": "python",
   "name": "python3__SAGEMAKER_INTERNAL__arn:aws-us-gov:sagemaker:us-gov-west-1:107173498710:image/sagemaker-data-science-310-v1"
  },
  "language_info": {
   "codemirror_mode": {
    "name": "ipython",
    "version": 3
   },
   "file_extension": ".py",
   "mimetype": "text/x-python",
   "name": "python",
   "nbconvert_exporter": "python",
   "pygments_lexer": "ipython3",
   "version": "3.10.6"
  }
 },
 "nbformat": 4,
 "nbformat_minor": 5
}
