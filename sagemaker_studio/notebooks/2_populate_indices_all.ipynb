{
 "cells": [
  {
   "cell_type": "markdown",
   "id": "2eadea6c-0133-4050-9f9f-60b08a8c8f8a",
   "metadata": {},
   "source": [
    "# 2 - Populate summary and full text indices from markdown, pdf or docx files"
   ]
  },
  {
   "cell_type": "markdown",
   "id": "9fb5fb4e-5d49-49a5-b303-90156e5e652a",
   "metadata": {},
   "source": [
    "#### Install dependencies"
   ]
  },
  {
   "cell_type": "code",
   "execution_count": null,
   "id": "3f594de7-01c1-4735-a434-9b0872d005f9",
   "metadata": {
    "tags": []
   },
   "outputs": [],
   "source": [
    "%pip install langchain-text-splitters opensearch-py pyPDF2 python-docx"
   ]
  },
  {
   "cell_type": "markdown",
   "id": "f88dbfea-0f44-4bc3-a92b-7425c514c65c",
   "metadata": {},
   "source": [
    "#### Import dependencies"
   ]
  },
  {
   "cell_type": "code",
   "execution_count": null,
   "id": "9ff3ccbc-f6a3-4724-a8d5-99ab72bfd563",
   "metadata": {
    "tags": []
   },
   "outputs": [],
   "source": [
    "import boto3\n",
    "from index_documents_helper import (\n",
    "    get_s3_key_list, \n",
    "    summarize_documents, \n",
    "    index_opensearch_summary_payload, \n",
    "    split_and_index_full_text,\n",
    "    delete_summary_index,\n",
    "    delete_full_text_index\n",
    ")"
   ]
  },
  {
   "cell_type": "markdown",
   "id": "eb25c65d-e529-4f50-9b47-9323824c1316",
   "metadata": {},
   "source": [
    "#### Retrieve stored parameters"
   ]
  },
  {
   "cell_type": "code",
   "execution_count": null,
   "id": "df761bbb-13ae-47b3-8127-6ec993eb1b89",
   "metadata": {
    "tags": []
   },
   "outputs": [],
   "source": [
    "%store -r region_name\n",
    "%store -r host\n",
    "%store -r summary_index_name\n",
    "%store -r full_text_index_name\n",
    "%store -r pipeline_id\n",
    "%store -r model_id\n",
    "print(\"Region is:\", region_name)\n",
    "print(\"OpenSearch endpoint\", host)\n",
    "print(\"Summary index name\", summary_index_name)\n",
    "print(\"Full Text index name\", full_text_index_name)\n",
    "print(\"Semantic search pipeline ID\", pipeline_id)\n",
    "print(\"Model ID\", model_id)"
   ]
  },
  {
   "cell_type": "markdown",
   "id": "a88d4a3c-7415-4814-a346-4a71b50da789",
   "metadata": {},
   "source": [
    "#### Get the name of the data bucket created by the CloudFormation stack"
   ]
  },
  {
   "cell_type": "code",
   "execution_count": null,
   "id": "eeef61e1-4f9a-46ce-97b8-d9702b394f66",
   "metadata": {
    "tags": []
   },
   "outputs": [],
   "source": [
    "stack_name = \"chatbot-demo\"\n",
    "\n",
    "cf_client = boto3.client('cloudformation')\n",
    "response = cf_client.describe_stacks(StackName=stack_name)\n",
    "outputs = response[\"Stacks\"][0][\"Outputs\"]\n",
    "bucket_name = list(filter(lambda outputs: outputs['OutputKey'] == 'DataBucket', outputs))[0][\"OutputValue\"]\n",
    "print(\"The name of the data bucket is:\", bucket_name)"
   ]
  },
  {
   "cell_type": "markdown",
   "id": "4cd9b0c8-ef05-4b9d-8745-9fe545174a51",
   "metadata": {},
   "source": [
    "#### Get a list of the files in the S3 bucket under the document prefix"
   ]
  },
  {
   "cell_type": "code",
   "execution_count": null,
   "id": "e87c9db3-694e-4002-9bf2-6f48e0e1566a",
   "metadata": {
    "tags": []
   },
   "outputs": [],
   "source": [
    "s3_prefix = \"\"\n",
    "file_extensions = (\".md\", \".pdf\", \".docx\")\n",
    "max_file_size = 3000000\n",
    "\n",
    "key_list = get_s3_key_list(\n",
    "    bucket_name = bucket_name,\n",
    "    s3_prefix = s3_prefix,\n",
    "    file_extensions = file_extensions,\n",
    "    max_file_size = max_file_size\n",
    ")\n",
    "\n",
    "print(\"Found\", len(key_list), \"documents.\")"
   ]
  },
  {
   "cell_type": "code",
   "execution_count": null,
   "id": "a7edfc9d-18ed-448e-9e12-497452d16622",
   "metadata": {
    "tags": []
   },
   "outputs": [],
   "source": [
    "#key_list"
   ]
  },
  {
   "cell_type": "markdown",
   "id": "9453df01-d677-411b-82b7-ea2dab6535f5",
   "metadata": {},
   "source": [
    "## Part 1 - Summarize the documents and populate the document summary OpenSearch index"
   ]
  },
  {
   "cell_type": "markdown",
   "id": "e2bc2129-9983-436a-8cec-290ee2505ec3",
   "metadata": {},
   "source": [
    "#### Delete any existing OpenSearch summary index records for the key list"
   ]
  },
  {
   "cell_type": "code",
   "execution_count": null,
   "id": "2427c519-99f9-4765-9f25-1994c422f084",
   "metadata": {},
   "outputs": [],
   "source": [
    "delete_summary_index(\n",
    "    region_name = region_name, \n",
    "    opensearch_host = host, \n",
    "    key_list = key_list, \n",
    "    summary_index_name = summary_index_name\n",
    ")"
   ]
  },
  {
   "cell_type": "markdown",
   "id": "d238d62e-1bc7-490d-91cf-bb721b6bec22",
   "metadata": {},
   "source": [
    "#### Summarize the documents in the S3 key list and return an OpenSearch payload\n",
    "This can take a long time, depending upon the number and size of documents"
   ]
  },
  {
   "cell_type": "code",
   "execution_count": null,
   "id": "10694c4f-8bd7-4175-954e-7de2cd6c9bbe",
   "metadata": {
    "tags": []
   },
   "outputs": [],
   "source": [
    "max_summary_length = 5000\n",
    "\n",
    "opensearch_payload = summarize_documents(\n",
    "    region_name = region_name,\n",
    "    bucket_name = bucket_name,\n",
    "    key_list = key_list,\n",
    "    max_summary_length = max_summary_length\n",
    ")\n",
    "\n",
    "print(\"OpenSearch payload has\", len(opensearch_payload), \"records\")"
   ]
  },
  {
   "cell_type": "markdown",
   "id": "465962ff-1a98-4c21-9f89-a3c7e367fe92",
   "metadata": {},
   "source": [
    "#### Show a sample of the OpenSearch summary payload records"
   ]
  },
  {
   "cell_type": "code",
   "execution_count": null,
   "id": "9ad1ae7c-8146-4acd-89aa-625d8cd1355a",
   "metadata": {
    "tags": []
   },
   "outputs": [],
   "source": [
    "if len(opensearch_payload) < 5:\n",
    "    sample_size = len(opensearch_payload)\n",
    "else:\n",
    "    sample_size = 5\n",
    "\n",
    "for i in range(0, sample_size):\n",
    "    print(opensearch_payload[i])\n",
    "    print()"
   ]
  },
  {
   "cell_type": "markdown",
   "id": "deb68911-54d2-4bd2-ae76-9377f2fc5432",
   "metadata": {},
   "source": [
    "#### Index the summary records into OpenSearch\n",
    "This can take a long time depending on the number and size of documents"
   ]
  },
  {
   "cell_type": "code",
   "execution_count": null,
   "id": "86499bb8-3814-42b2-be1d-22ecf6fabc70",
   "metadata": {
    "tags": []
   },
   "outputs": [],
   "source": [
    "summary_indexing_result = index_opensearch_summary_payload(\n",
    "    region_name = region_name,\n",
    "    opensearch_host = host,\n",
    "    opensearch_payload = opensearch_payload,\n",
    "    summary_index_name = summary_index_name\n",
    ")\n",
    "\n",
    "summary_indexing_result"
   ]
  },
  {
   "cell_type": "markdown",
   "id": "61232f01-ec40-4e59-a811-37edd04b088d",
   "metadata": {},
   "source": [
    "## Part 2 - Populate the Full Text OpenSearch index"
   ]
  },
  {
   "cell_type": "markdown",
   "id": "936696bf-e4a1-45a8-8704-7419168c70c0",
   "metadata": {},
   "source": [
    "#### Delete any existing OpenSearch full text index records for the key list"
   ]
  },
  {
   "cell_type": "code",
   "execution_count": null,
   "id": "ca0d1e36-6a7f-4016-8683-38fe976cdc12",
   "metadata": {},
   "outputs": [],
   "source": [
    "delete_full_text_index(\n",
    "    region_name = region_name, \n",
    "    opensearch_host = host, \n",
    "    key_list = key_list, \n",
    "    full_text_index_name = full_text_index_name\n",
    ")"
   ]
  },
  {
   "cell_type": "markdown",
   "id": "dd4f6df9-b4bd-4cc6-8205-64081f375190",
   "metadata": {},
   "source": [
    "#### Iterate through list of markdown files, split into sections and add to OpenSearch index\n",
    "For markdown files, adds a heading field into the payload based on the first line of text in each section that begins with a hash character.\n",
    "<br>For pdf files, adds page number for each page.\n",
    "<br>This can take a long time depending on the number and size of documents."
   ]
  },
  {
   "cell_type": "code",
   "execution_count": null,
   "id": "963118d0-f18f-44ba-9e66-c86b1e54414e",
   "metadata": {
    "tags": []
   },
   "outputs": [],
   "source": [
    "full_text_indexing_result = split_and_index_full_text(\n",
    "    region_name = region_name, \n",
    "    opensearch_host = host,\n",
    "    bucket_name = bucket_name,\n",
    "    key_list = key_list,\n",
    "    full_text_index_name = full_text_index_name\n",
    ")\n",
    "\n",
    "full_text_indexing_result"
   ]
  },
  {
   "cell_type": "markdown",
   "id": "73871991-901a-408c-a5fe-d33c5518efca",
   "metadata": {},
   "source": [
    "#### Copyright Amazon.com, Inc. or its affiliates. All Rights Reserved.\n",
    "#### SPDX-License-Identifier: MIT-0"
   ]
  },
  {
   "cell_type": "code",
   "execution_count": null,
   "id": "b8e5f69a-0469-4463-865f-7c452973b1c6",
   "metadata": {},
   "outputs": [],
   "source": []
  }
 ],
 "metadata": {
  "availableInstances": [
   {
    "_defaultOrder": 0,
    "_isFastLaunch": true,
    "category": "General purpose",
    "gpuNum": 0,
    "hideHardwareSpecs": false,
    "memoryGiB": 4,
    "name": "ml.t3.medium",
    "vcpuNum": 2
   },
   {
    "_defaultOrder": 1,
    "_isFastLaunch": false,
    "category": "General purpose",
    "gpuNum": 0,
    "hideHardwareSpecs": false,
    "memoryGiB": 8,
    "name": "ml.t3.large",
    "vcpuNum": 2
   },
   {
    "_defaultOrder": 2,
    "_isFastLaunch": false,
    "category": "General purpose",
    "gpuNum": 0,
    "hideHardwareSpecs": false,
    "memoryGiB": 16,
    "name": "ml.t3.xlarge",
    "vcpuNum": 4
   },
   {
    "_defaultOrder": 3,
    "_isFastLaunch": false,
    "category": "General purpose",
    "gpuNum": 0,
    "hideHardwareSpecs": false,
    "memoryGiB": 32,
    "name": "ml.t3.2xlarge",
    "vcpuNum": 8
   },
   {
    "_defaultOrder": 4,
    "_isFastLaunch": true,
    "category": "General purpose",
    "gpuNum": 0,
    "hideHardwareSpecs": false,
    "memoryGiB": 8,
    "name": "ml.m5.large",
    "vcpuNum": 2
   },
   {
    "_defaultOrder": 5,
    "_isFastLaunch": false,
    "category": "General purpose",
    "gpuNum": 0,
    "hideHardwareSpecs": false,
    "memoryGiB": 16,
    "name": "ml.m5.xlarge",
    "vcpuNum": 4
   },
   {
    "_defaultOrder": 6,
    "_isFastLaunch": false,
    "category": "General purpose",
    "gpuNum": 0,
    "hideHardwareSpecs": false,
    "memoryGiB": 32,
    "name": "ml.m5.2xlarge",
    "vcpuNum": 8
   },
   {
    "_defaultOrder": 7,
    "_isFastLaunch": false,
    "category": "General purpose",
    "gpuNum": 0,
    "hideHardwareSpecs": false,
    "memoryGiB": 64,
    "name": "ml.m5.4xlarge",
    "vcpuNum": 16
   },
   {
    "_defaultOrder": 8,
    "_isFastLaunch": false,
    "category": "General purpose",
    "gpuNum": 0,
    "hideHardwareSpecs": false,
    "memoryGiB": 128,
    "name": "ml.m5.8xlarge",
    "vcpuNum": 32
   },
   {
    "_defaultOrder": 9,
    "_isFastLaunch": false,
    "category": "General purpose",
    "gpuNum": 0,
    "hideHardwareSpecs": false,
    "memoryGiB": 192,
    "name": "ml.m5.12xlarge",
    "vcpuNum": 48
   },
   {
    "_defaultOrder": 10,
    "_isFastLaunch": false,
    "category": "General purpose",
    "gpuNum": 0,
    "hideHardwareSpecs": false,
    "memoryGiB": 256,
    "name": "ml.m5.16xlarge",
    "vcpuNum": 64
   },
   {
    "_defaultOrder": 11,
    "_isFastLaunch": false,
    "category": "General purpose",
    "gpuNum": 0,
    "hideHardwareSpecs": false,
    "memoryGiB": 384,
    "name": "ml.m5.24xlarge",
    "vcpuNum": 96
   },
   {
    "_defaultOrder": 12,
    "_isFastLaunch": false,
    "category": "General purpose",
    "gpuNum": 0,
    "hideHardwareSpecs": false,
    "memoryGiB": 8,
    "name": "ml.m5d.large",
    "vcpuNum": 2
   },
   {
    "_defaultOrder": 13,
    "_isFastLaunch": false,
    "category": "General purpose",
    "gpuNum": 0,
    "hideHardwareSpecs": false,
    "memoryGiB": 16,
    "name": "ml.m5d.xlarge",
    "vcpuNum": 4
   },
   {
    "_defaultOrder": 14,
    "_isFastLaunch": false,
    "category": "General purpose",
    "gpuNum": 0,
    "hideHardwareSpecs": false,
    "memoryGiB": 32,
    "name": "ml.m5d.2xlarge",
    "vcpuNum": 8
   },
   {
    "_defaultOrder": 15,
    "_isFastLaunch": false,
    "category": "General purpose",
    "gpuNum": 0,
    "hideHardwareSpecs": false,
    "memoryGiB": 64,
    "name": "ml.m5d.4xlarge",
    "vcpuNum": 16
   },
   {
    "_defaultOrder": 16,
    "_isFastLaunch": false,
    "category": "General purpose",
    "gpuNum": 0,
    "hideHardwareSpecs": false,
    "memoryGiB": 128,
    "name": "ml.m5d.8xlarge",
    "vcpuNum": 32
   },
   {
    "_defaultOrder": 17,
    "_isFastLaunch": false,
    "category": "General purpose",
    "gpuNum": 0,
    "hideHardwareSpecs": false,
    "memoryGiB": 192,
    "name": "ml.m5d.12xlarge",
    "vcpuNum": 48
   },
   {
    "_defaultOrder": 18,
    "_isFastLaunch": false,
    "category": "General purpose",
    "gpuNum": 0,
    "hideHardwareSpecs": false,
    "memoryGiB": 256,
    "name": "ml.m5d.16xlarge",
    "vcpuNum": 64
   },
   {
    "_defaultOrder": 19,
    "_isFastLaunch": false,
    "category": "General purpose",
    "gpuNum": 0,
    "hideHardwareSpecs": false,
    "memoryGiB": 384,
    "name": "ml.m5d.24xlarge",
    "vcpuNum": 96
   },
   {
    "_defaultOrder": 20,
    "_isFastLaunch": false,
    "category": "General purpose",
    "gpuNum": 0,
    "hideHardwareSpecs": true,
    "memoryGiB": 0,
    "name": "ml.geospatial.interactive",
    "supportedImageNames": [
     "sagemaker-geospatial-v1-0"
    ],
    "vcpuNum": 0
   },
   {
    "_defaultOrder": 21,
    "_isFastLaunch": true,
    "category": "Compute optimized",
    "gpuNum": 0,
    "hideHardwareSpecs": false,
    "memoryGiB": 4,
    "name": "ml.c5.large",
    "vcpuNum": 2
   },
   {
    "_defaultOrder": 22,
    "_isFastLaunch": false,
    "category": "Compute optimized",
    "gpuNum": 0,
    "hideHardwareSpecs": false,
    "memoryGiB": 8,
    "name": "ml.c5.xlarge",
    "vcpuNum": 4
   },
   {
    "_defaultOrder": 23,
    "_isFastLaunch": false,
    "category": "Compute optimized",
    "gpuNum": 0,
    "hideHardwareSpecs": false,
    "memoryGiB": 16,
    "name": "ml.c5.2xlarge",
    "vcpuNum": 8
   },
   {
    "_defaultOrder": 24,
    "_isFastLaunch": false,
    "category": "Compute optimized",
    "gpuNum": 0,
    "hideHardwareSpecs": false,
    "memoryGiB": 32,
    "name": "ml.c5.4xlarge",
    "vcpuNum": 16
   },
   {
    "_defaultOrder": 25,
    "_isFastLaunch": false,
    "category": "Compute optimized",
    "gpuNum": 0,
    "hideHardwareSpecs": false,
    "memoryGiB": 72,
    "name": "ml.c5.9xlarge",
    "vcpuNum": 36
   },
   {
    "_defaultOrder": 26,
    "_isFastLaunch": false,
    "category": "Compute optimized",
    "gpuNum": 0,
    "hideHardwareSpecs": false,
    "memoryGiB": 96,
    "name": "ml.c5.12xlarge",
    "vcpuNum": 48
   },
   {
    "_defaultOrder": 27,
    "_isFastLaunch": false,
    "category": "Compute optimized",
    "gpuNum": 0,
    "hideHardwareSpecs": false,
    "memoryGiB": 144,
    "name": "ml.c5.18xlarge",
    "vcpuNum": 72
   },
   {
    "_defaultOrder": 28,
    "_isFastLaunch": false,
    "category": "Compute optimized",
    "gpuNum": 0,
    "hideHardwareSpecs": false,
    "memoryGiB": 192,
    "name": "ml.c5.24xlarge",
    "vcpuNum": 96
   },
   {
    "_defaultOrder": 29,
    "_isFastLaunch": true,
    "category": "Accelerated computing",
    "gpuNum": 1,
    "hideHardwareSpecs": false,
    "memoryGiB": 16,
    "name": "ml.g4dn.xlarge",
    "vcpuNum": 4
   },
   {
    "_defaultOrder": 30,
    "_isFastLaunch": false,
    "category": "Accelerated computing",
    "gpuNum": 1,
    "hideHardwareSpecs": false,
    "memoryGiB": 32,
    "name": "ml.g4dn.2xlarge",
    "vcpuNum": 8
   },
   {
    "_defaultOrder": 31,
    "_isFastLaunch": false,
    "category": "Accelerated computing",
    "gpuNum": 1,
    "hideHardwareSpecs": false,
    "memoryGiB": 64,
    "name": "ml.g4dn.4xlarge",
    "vcpuNum": 16
   },
   {
    "_defaultOrder": 32,
    "_isFastLaunch": false,
    "category": "Accelerated computing",
    "gpuNum": 1,
    "hideHardwareSpecs": false,
    "memoryGiB": 128,
    "name": "ml.g4dn.8xlarge",
    "vcpuNum": 32
   },
   {
    "_defaultOrder": 33,
    "_isFastLaunch": false,
    "category": "Accelerated computing",
    "gpuNum": 4,
    "hideHardwareSpecs": false,
    "memoryGiB": 192,
    "name": "ml.g4dn.12xlarge",
    "vcpuNum": 48
   },
   {
    "_defaultOrder": 34,
    "_isFastLaunch": false,
    "category": "Accelerated computing",
    "gpuNum": 1,
    "hideHardwareSpecs": false,
    "memoryGiB": 256,
    "name": "ml.g4dn.16xlarge",
    "vcpuNum": 64
   },
   {
    "_defaultOrder": 35,
    "_isFastLaunch": false,
    "category": "Accelerated computing",
    "gpuNum": 1,
    "hideHardwareSpecs": false,
    "memoryGiB": 61,
    "name": "ml.p3.2xlarge",
    "vcpuNum": 8
   },
   {
    "_defaultOrder": 36,
    "_isFastLaunch": false,
    "category": "Accelerated computing",
    "gpuNum": 4,
    "hideHardwareSpecs": false,
    "memoryGiB": 244,
    "name": "ml.p3.8xlarge",
    "vcpuNum": 32
   },
   {
    "_defaultOrder": 37,
    "_isFastLaunch": false,
    "category": "Accelerated computing",
    "gpuNum": 8,
    "hideHardwareSpecs": false,
    "memoryGiB": 488,
    "name": "ml.p3.16xlarge",
    "vcpuNum": 64
   },
   {
    "_defaultOrder": 38,
    "_isFastLaunch": false,
    "category": "Accelerated computing",
    "gpuNum": 8,
    "hideHardwareSpecs": false,
    "memoryGiB": 768,
    "name": "ml.p3dn.24xlarge",
    "vcpuNum": 96
   },
   {
    "_defaultOrder": 39,
    "_isFastLaunch": false,
    "category": "Memory Optimized",
    "gpuNum": 0,
    "hideHardwareSpecs": false,
    "memoryGiB": 16,
    "name": "ml.r5.large",
    "vcpuNum": 2
   },
   {
    "_defaultOrder": 40,
    "_isFastLaunch": false,
    "category": "Memory Optimized",
    "gpuNum": 0,
    "hideHardwareSpecs": false,
    "memoryGiB": 32,
    "name": "ml.r5.xlarge",
    "vcpuNum": 4
   },
   {
    "_defaultOrder": 41,
    "_isFastLaunch": false,
    "category": "Memory Optimized",
    "gpuNum": 0,
    "hideHardwareSpecs": false,
    "memoryGiB": 64,
    "name": "ml.r5.2xlarge",
    "vcpuNum": 8
   },
   {
    "_defaultOrder": 42,
    "_isFastLaunch": false,
    "category": "Memory Optimized",
    "gpuNum": 0,
    "hideHardwareSpecs": false,
    "memoryGiB": 128,
    "name": "ml.r5.4xlarge",
    "vcpuNum": 16
   },
   {
    "_defaultOrder": 43,
    "_isFastLaunch": false,
    "category": "Memory Optimized",
    "gpuNum": 0,
    "hideHardwareSpecs": false,
    "memoryGiB": 256,
    "name": "ml.r5.8xlarge",
    "vcpuNum": 32
   },
   {
    "_defaultOrder": 44,
    "_isFastLaunch": false,
    "category": "Memory Optimized",
    "gpuNum": 0,
    "hideHardwareSpecs": false,
    "memoryGiB": 384,
    "name": "ml.r5.12xlarge",
    "vcpuNum": 48
   },
   {
    "_defaultOrder": 45,
    "_isFastLaunch": false,
    "category": "Memory Optimized",
    "gpuNum": 0,
    "hideHardwareSpecs": false,
    "memoryGiB": 512,
    "name": "ml.r5.16xlarge",
    "vcpuNum": 64
   },
   {
    "_defaultOrder": 46,
    "_isFastLaunch": false,
    "category": "Memory Optimized",
    "gpuNum": 0,
    "hideHardwareSpecs": false,
    "memoryGiB": 768,
    "name": "ml.r5.24xlarge",
    "vcpuNum": 96
   },
   {
    "_defaultOrder": 47,
    "_isFastLaunch": false,
    "category": "Accelerated computing",
    "gpuNum": 1,
    "hideHardwareSpecs": false,
    "memoryGiB": 16,
    "name": "ml.g5.xlarge",
    "vcpuNum": 4
   },
   {
    "_defaultOrder": 48,
    "_isFastLaunch": false,
    "category": "Accelerated computing",
    "gpuNum": 1,
    "hideHardwareSpecs": false,
    "memoryGiB": 32,
    "name": "ml.g5.2xlarge",
    "vcpuNum": 8
   },
   {
    "_defaultOrder": 49,
    "_isFastLaunch": false,
    "category": "Accelerated computing",
    "gpuNum": 1,
    "hideHardwareSpecs": false,
    "memoryGiB": 64,
    "name": "ml.g5.4xlarge",
    "vcpuNum": 16
   },
   {
    "_defaultOrder": 50,
    "_isFastLaunch": false,
    "category": "Accelerated computing",
    "gpuNum": 1,
    "hideHardwareSpecs": false,
    "memoryGiB": 128,
    "name": "ml.g5.8xlarge",
    "vcpuNum": 32
   },
   {
    "_defaultOrder": 51,
    "_isFastLaunch": false,
    "category": "Accelerated computing",
    "gpuNum": 1,
    "hideHardwareSpecs": false,
    "memoryGiB": 256,
    "name": "ml.g5.16xlarge",
    "vcpuNum": 64
   },
   {
    "_defaultOrder": 52,
    "_isFastLaunch": false,
    "category": "Accelerated computing",
    "gpuNum": 4,
    "hideHardwareSpecs": false,
    "memoryGiB": 192,
    "name": "ml.g5.12xlarge",
    "vcpuNum": 48
   },
   {
    "_defaultOrder": 53,
    "_isFastLaunch": false,
    "category": "Accelerated computing",
    "gpuNum": 4,
    "hideHardwareSpecs": false,
    "memoryGiB": 384,
    "name": "ml.g5.24xlarge",
    "vcpuNum": 96
   },
   {
    "_defaultOrder": 54,
    "_isFastLaunch": false,
    "category": "Accelerated computing",
    "gpuNum": 8,
    "hideHardwareSpecs": false,
    "memoryGiB": 768,
    "name": "ml.g5.48xlarge",
    "vcpuNum": 192
   },
   {
    "_defaultOrder": 55,
    "_isFastLaunch": false,
    "category": "Accelerated computing",
    "gpuNum": 8,
    "hideHardwareSpecs": false,
    "memoryGiB": 1152,
    "name": "ml.p4d.24xlarge",
    "vcpuNum": 96
   },
   {
    "_defaultOrder": 56,
    "_isFastLaunch": false,
    "category": "Accelerated computing",
    "gpuNum": 8,
    "hideHardwareSpecs": false,
    "memoryGiB": 1152,
    "name": "ml.p4de.24xlarge",
    "vcpuNum": 96
   },
   {
    "_defaultOrder": 57,
    "_isFastLaunch": false,
    "category": "Accelerated computing",
    "gpuNum": 0,
    "hideHardwareSpecs": false,
    "memoryGiB": 32,
    "name": "ml.trn1.2xlarge",
    "vcpuNum": 8
   },
   {
    "_defaultOrder": 58,
    "_isFastLaunch": false,
    "category": "Accelerated computing",
    "gpuNum": 0,
    "hideHardwareSpecs": false,
    "memoryGiB": 512,
    "name": "ml.trn1.32xlarge",
    "vcpuNum": 128
   },
   {
    "_defaultOrder": 59,
    "_isFastLaunch": false,
    "category": "Accelerated computing",
    "gpuNum": 0,
    "hideHardwareSpecs": false,
    "memoryGiB": 512,
    "name": "ml.trn1n.32xlarge",
    "vcpuNum": 128
   }
  ],
  "instance_type": "ml.t3.medium",
  "kernelspec": {
   "display_name": "Python 3 (Data Science 3.0)",
   "language": "python",
   "name": "python3__SAGEMAKER_INTERNAL__arn:aws-us-gov:sagemaker:us-gov-west-1:107173498710:image/sagemaker-data-science-310-v1"
  },
  "language_info": {
   "codemirror_mode": {
    "name": "ipython",
    "version": 3
   },
   "file_extension": ".py",
   "mimetype": "text/x-python",
   "name": "python",
   "nbconvert_exporter": "python",
   "pygments_lexer": "ipython3",
   "version": "3.10.6"
  }
 },
 "nbformat": 4,
 "nbformat_minor": 5
}
